{
 "cells": [
  {
   "cell_type": "markdown",
   "id": "8ef503a6",
   "metadata": {
    "papermill": {
     "duration": 0.004629,
     "end_time": "2025-01-28T15:42:00.358625",
     "exception": false,
     "start_time": "2025-01-28T15:42:00.353996",
     "status": "completed"
    },
    "tags": []
   },
   "source": [
    "## Introduction to Neural networks with CNNs"
   ]
  },
  {
   "cell_type": "code",
   "execution_count": 1,
   "id": "2d3f04b2",
   "metadata": {
    "execution": {
     "iopub.execute_input": "2025-01-28T15:42:00.367704Z",
     "iopub.status.busy": "2025-01-28T15:42:00.367396Z",
     "iopub.status.idle": "2025-01-28T15:42:00.371458Z",
     "shell.execute_reply": "2025-01-28T15:42:00.370825Z"
    },
    "papermill": {
     "duration": 0.010415,
     "end_time": "2025-01-28T15:42:00.372989",
     "exception": false,
     "start_time": "2025-01-28T15:42:00.362574",
     "status": "completed"
    },
    "tags": []
   },
   "outputs": [],
   "source": [
    "# import image preoccesing libraries \n",
    "\n"
   ]
  },
  {
   "cell_type": "code",
   "execution_count": 2,
   "id": "f55c7125",
   "metadata": {
    "execution": {
     "iopub.execute_input": "2025-01-28T15:42:00.381425Z",
     "iopub.status.busy": "2025-01-28T15:42:00.381173Z",
     "iopub.status.idle": "2025-01-28T15:42:00.384432Z",
     "shell.execute_reply": "2025-01-28T15:42:00.383678Z"
    },
    "papermill": {
     "duration": 0.00941,
     "end_time": "2025-01-28T15:42:00.386205",
     "exception": false,
     "start_time": "2025-01-28T15:42:00.376795",
     "status": "completed"
    },
    "tags": []
   },
   "outputs": [],
   "source": [
    "# display an image \n"
   ]
  },
  {
   "cell_type": "code",
   "execution_count": 3,
   "id": "a53130dd",
   "metadata": {
    "execution": {
     "iopub.execute_input": "2025-01-28T15:42:00.395050Z",
     "iopub.status.busy": "2025-01-28T15:42:00.394526Z",
     "iopub.status.idle": "2025-01-28T15:42:00.397905Z",
     "shell.execute_reply": "2025-01-28T15:42:00.397151Z"
    },
    "papermill": {
     "duration": 0.009336,
     "end_time": "2025-01-28T15:42:00.399385",
     "exception": false,
     "start_time": "2025-01-28T15:42:00.390049",
     "status": "completed"
    },
    "tags": []
   },
   "outputs": [],
   "source": [
    "# another image example \n"
   ]
  },
  {
   "cell_type": "code",
   "execution_count": 4,
   "id": "13770a7e",
   "metadata": {
    "execution": {
     "iopub.execute_input": "2025-01-28T15:42:00.408750Z",
     "iopub.status.busy": "2025-01-28T15:42:00.408537Z",
     "iopub.status.idle": "2025-01-28T15:42:00.411741Z",
     "shell.execute_reply": "2025-01-28T15:42:00.410996Z"
    },
    "papermill": {
     "duration": 0.010058,
     "end_time": "2025-01-28T15:42:00.413214",
     "exception": false,
     "start_time": "2025-01-28T15:42:00.403156",
     "status": "completed"
    },
    "tags": []
   },
   "outputs": [],
   "source": [
    "# display shape of \n"
   ]
  },
  {
   "cell_type": "code",
   "execution_count": 5,
   "id": "69cc0dc4",
   "metadata": {
    "execution": {
     "iopub.execute_input": "2025-01-28T15:42:00.422107Z",
     "iopub.status.busy": "2025-01-28T15:42:00.421465Z",
     "iopub.status.idle": "2025-01-28T15:42:00.424572Z",
     "shell.execute_reply": "2025-01-28T15:42:00.423991Z"
    },
    "papermill": {
     "duration": 0.00896,
     "end_time": "2025-01-28T15:42:00.425986",
     "exception": false,
     "start_time": "2025-01-28T15:42:00.417026",
     "status": "completed"
    },
    "tags": []
   },
   "outputs": [],
   "source": [
    "# ! pip install tensorflow"
   ]
  },
  {
   "cell_type": "code",
   "execution_count": 6,
   "id": "6b2656c9",
   "metadata": {
    "execution": {
     "iopub.execute_input": "2025-01-28T15:42:00.435059Z",
     "iopub.status.busy": "2025-01-28T15:42:00.434825Z",
     "iopub.status.idle": "2025-01-28T15:42:00.437843Z",
     "shell.execute_reply": "2025-01-28T15:42:00.437189Z"
    },
    "papermill": {
     "duration": 0.008993,
     "end_time": "2025-01-28T15:42:00.439381",
     "exception": false,
     "start_time": "2025-01-28T15:42:00.430388",
     "status": "completed"
    },
    "tags": []
   },
   "outputs": [],
   "source": [
    "# tensfolow imports \n"
   ]
  },
  {
   "cell_type": "markdown",
   "id": "d0db131d",
   "metadata": {
    "papermill": {
     "duration": 0.00366,
     "end_time": "2025-01-28T15:42:00.446865",
     "exception": false,
     "start_time": "2025-01-28T15:42:00.443205",
     "status": "completed"
    },
    "tags": []
   },
   "source": [
    "# Generating Data From images\n",
    "\n",
    "```python\n",
    "from tensorflow.keras.preprocessing.image import ImageDataGenerator\n",
    "```\n",
    "\n",
    "Key Parameters of ImageDataGenerator\n",
    "\n",
    "    featurewise_center:\n",
    "        Type: bool\n",
    "        Default: False\n",
    "        Description: If set to True, it will center the data by subtracting the mean of the dataset. This helps in normalizing the input.\n",
    "        Importance: Useful for ensuring that the data has a mean of zero, which can improve convergence during training.\n",
    "\n",
    "    featurewise_std_normalization:\n",
    "        Type: bool\n",
    "        Default: False\n",
    "        Description: If True, it divides the data by the standard deviation of the dataset.\n",
    "        Importance: This further normalizes the data, making it more suitable for training neural networks.\n",
    "\n",
    "    rescale:\n",
    "        Type: float\n",
    "        Default: None\n",
    "        Description: Rescales the pixel values to a different range, often used to normalize pixel values (e.g., 1./255 to convert from [0, 255] to [0, 1]).\n",
    "        Importance: Ensures that input values are in a suitable range for training, which can lead to better performance.\n",
    "\n",
    "    zca_whitening:\n",
    "        Type: bool\n",
    "        Default: False\n",
    "        Description: If True, applies ZCA whitening to the data.\n",
    "        Importance: This can help reduce redundancy in features and improve model performance, although it may increase training time.\n",
    "\n",
    "    rotation_range:\n",
    "        Type: int\n",
    "        Default: 0\n",
    "        Description: Degree range for random rotations.\n",
    "        Importance: Helps the model become invariant to rotations of the object, which is beneficial for image classification tasks.\n",
    "\n",
    "    width_shift_range and height_shift_range:\n",
    "        Type: float or int\n",
    "        Default: 0.0\n",
    "        Description: Fraction or absolute pixels to shift the image horizontally or vertically.\n",
    "        Importance: Allows the model to learn to recognize objects in different positions within the image.\n",
    "\n",
    "    shear_range:\n",
    "        Type: float\n",
    "        Default: 0.0\n",
    "        Description: Shear angle in counter-clockwise direction in degrees.\n",
    "        Importance: Helps the model learn to recognize objects that may be distorted.\n",
    "\n",
    "    zoom_range:\n",
    "        Type: float or [float, float]\n",
    "        Default: 0.0\n",
    "        Description: Range for random zoom.\n",
    "        Importance: Enhances the model’s ability to recognize objects at different scales.\n",
    "\n",
    "    horizontal_flip:\n",
    "        Type: bool\n",
    "        Default: False\n",
    "        Description: Randomly flip inputs horizontally.\n",
    "        Importance: Useful for certain datasets (e.g., faces) where the orientation of the image matters less.\n",
    "\n",
    "    vertical_flip:\n",
    "        Type: bool\n",
    "        Default: False\n",
    "        Description: Randomly flip inputs vertically.\n",
    "        Importance: Similar to horizontal flip but used less frequently unless the context allows for it (e.g., certain types of animals).\n",
    "\n",
    "    fill_mode:\n",
    "        Type: str\n",
    "        Default: 'nearest'\n",
    "        Description: Points outside the boundaries of the input are filled according to the given mode.\n",
    "        Importance: Determines how to fill in the new pixels when transformations (like shifting or rotating) are applied.\n",
    "\n",
    "    validation_split:\n",
    "        Type: float\n",
    "        Default: 0.0\n",
    "        Description: Proportion of the dataset to reserve for validation.\n",
    "        Importance: Useful for automatically splitting your dataset into training and validation sets without needing to manually preprocess the data."
   ]
  },
  {
   "cell_type": "code",
   "execution_count": 7,
   "id": "1d834f30",
   "metadata": {
    "execution": {
     "iopub.execute_input": "2025-01-28T15:42:00.455569Z",
     "iopub.status.busy": "2025-01-28T15:42:00.455007Z",
     "iopub.status.idle": "2025-01-28T15:42:00.458364Z",
     "shell.execute_reply": "2025-01-28T15:42:00.457707Z"
    },
    "papermill": {
     "duration": 0.00924,
     "end_time": "2025-01-28T15:42:00.459843",
     "exception": false,
     "start_time": "2025-01-28T15:42:00.450603",
     "status": "completed"
    },
    "tags": []
   },
   "outputs": [],
   "source": [
    "# image data generator \n",
    "\n",
    "# datagen  =  ImageDataGenerator(\n",
    "    # optional parameters\n",
    "    # rescale=1.0/255,            # Normalize pixel values to [0, 1]\n",
    "    # rotation_range=40,          # Randomly rotate images\n",
    "    # width_shift_range=0.2,      # Randomly shift images horizontally\n",
    "    # height_shift_range=0.2,     # Randomly shift images vertically\n",
    "    # shear_range=0.2,            # Randomly shear images\n",
    "    # zoom_range=0.2,             # Randomly zoom images\n",
    "    # horizontal_flip=True,        # Randomly flip images\n",
    "    # fill_mode='nearest',\n",
    "    # validation_split = 0.2\n",
    "# )"
   ]
  },
  {
   "cell_type": "code",
   "execution_count": 8,
   "id": "c01a5ed1",
   "metadata": {
    "execution": {
     "iopub.execute_input": "2025-01-28T15:42:00.468709Z",
     "iopub.status.busy": "2025-01-28T15:42:00.468130Z",
     "iopub.status.idle": "2025-01-28T15:42:00.471340Z",
     "shell.execute_reply": "2025-01-28T15:42:00.470713Z"
    },
    "papermill": {
     "duration": 0.009118,
     "end_time": "2025-01-28T15:42:00.472812",
     "exception": false,
     "start_time": "2025-01-28T15:42:00.463694",
     "status": "completed"
    },
    "tags": []
   },
   "outputs": [],
   "source": [
    "# define data source \n"
   ]
  },
  {
   "cell_type": "markdown",
   "id": "51d632c3",
   "metadata": {
    "papermill": {
     "duration": 0.00365,
     "end_time": "2025-01-28T15:42:00.480207",
     "exception": false,
     "start_time": "2025-01-28T15:42:00.476557",
     "status": "completed"
    },
    "tags": []
   },
   "source": [
    "## Using Flow from Directory\n",
    "\n",
    "Important Parameters\n",
    "\n",
    "    directory:\n",
    "        Type: str\n",
    "        Description: Path to the target directory containing subdirectories for each class.\n",
    "\n",
    "    target_size:\n",
    "        Type: (int, int)\n",
    "        Description: The dimensions to which all images found will be resized.\n",
    "        Importance: Ensures that all images have the same dimensions, which is necessary for feeding them into a neural network.\n",
    "\n",
    "    batch_size:\n",
    "        Type: int\n",
    "        Description: The number of samples to be yielded from the generator per iteration.\n",
    "        Importance: Affects the number of images processed at once, which can impact training speed and memory usage.\n",
    "\n",
    "    class_mode:\n",
    "        Type: str\n",
    "        Description: Determines the type of label arrays that are returned:\n",
    "            'categorical' for one-hot encoded labels,\n",
    "            'binary' for binary labels,\n",
    "            'sparse' for integer labels,\n",
    "            None for no labels (useful for feature extraction).\n",
    "        Importance: This is crucial for ensuring that your labels are formatted correctly for your specific task.\n",
    "\n",
    "    shuffle:\n",
    "        Type: bool\n",
    "        Default: True\n",
    "        Description: Whether to shuffle the data.\n",
    "        Importance: Shuffling can help the model learn more effectively by preventing it from seeing the data in a fixed order.\n",
    "\n",
    "    seed:\n",
    "        Type: int\n",
    "        Description: Random seed for shuffling and transformations.\n",
    "        Importance: Useful for reproducibility of results.\n",
    "\n",
    "    subset:\n",
    "        Type: str\n",
    "        Options: 'training' or 'validation'\n",
    "        Description: If the validation_split parameter is set, this indicates whether to return the training or validation data.\n",
    "        Importance: Allows for automatic splitting of the dataset into training and validation sets based on the defined split.\n",
    "        \n",
    "    color_mode:\n",
    "        specifies the color format of the images being loaded\n",
    "        Options:\n",
    "            \"grayscale\": Loads images as grayscale. The resulting images will have a single channel.\n",
    "            \"rgb\": Loads images in RGB format (the default). The resulting images will have three channels, representing red, green, and blue.\n",
    "            \"rgba\": Loads images in RGBA format, which includes an additional alpha channel for transparency (if applicable). This option is less common in standard classification tasks."
   ]
  },
  {
   "cell_type": "code",
   "execution_count": 9,
   "id": "4edc9d35",
   "metadata": {
    "execution": {
     "iopub.execute_input": "2025-01-28T15:42:00.489602Z",
     "iopub.status.busy": "2025-01-28T15:42:00.488516Z",
     "iopub.status.idle": "2025-01-28T15:42:00.492328Z",
     "shell.execute_reply": "2025-01-28T15:42:00.491572Z"
    },
    "papermill": {
     "duration": 0.009836,
     "end_time": "2025-01-28T15:42:00.493833",
     "exception": false,
     "start_time": "2025-01-28T15:42:00.483997",
     "status": "completed"
    },
    "tags": []
   },
   "outputs": [],
   "source": [
    "# training_data = datagen.flow_from_directory(\n",
    "    # folder,\n",
    "    # target_size=(28,28),\n",
    "    # batch_size = 32,\n",
    "    # class_mode = 'categorical',\n",
    "    # color_mode = 'grayscale',\n",
    "    # seed = 42,\n",
    "    # subset=\"training\"\n",
    "# )"
   ]
  },
  {
   "cell_type": "code",
   "execution_count": 10,
   "id": "2d3b27c7",
   "metadata": {
    "execution": {
     "iopub.execute_input": "2025-01-28T15:42:00.502067Z",
     "iopub.status.busy": "2025-01-28T15:42:00.501841Z",
     "iopub.status.idle": "2025-01-28T15:42:00.505027Z",
     "shell.execute_reply": "2025-01-28T15:42:00.504299Z"
    },
    "papermill": {
     "duration": 0.009004,
     "end_time": "2025-01-28T15:42:00.506542",
     "exception": false,
     "start_time": "2025-01-28T15:42:00.497538",
     "status": "completed"
    },
    "tags": []
   },
   "outputs": [],
   "source": [
    "# validation = datagen.flow_from_directory(\n",
    "    # folder,\n",
    "    # target_size=(28,28),\n",
    "    # class_mode = \"categorical\",\n",
    "    # color_mode = \"grayscale\",\n",
    "    # subset = \"validation\"\n",
    "# )"
   ]
  },
  {
   "cell_type": "code",
   "execution_count": 11,
   "id": "85e34552",
   "metadata": {
    "execution": {
     "iopub.execute_input": "2025-01-28T15:42:00.514927Z",
     "iopub.status.busy": "2025-01-28T15:42:00.514683Z",
     "iopub.status.idle": "2025-01-28T15:42:13.153914Z",
     "shell.execute_reply": "2025-01-28T15:42:13.153311Z"
    },
    "papermill": {
     "duration": 12.645537,
     "end_time": "2025-01-28T15:42:13.155931",
     "exception": false,
     "start_time": "2025-01-28T15:42:00.510394",
     "status": "completed"
    },
    "tags": []
   },
   "outputs": [],
   "source": [
    "from tensorflow.keras.models import Sequential\n",
    "from tensorflow.keras.layers import Conv2D,Dense,Flatten,MaxPooling2D,Dropout,Input,BatchNormalization"
   ]
  },
  {
   "cell_type": "markdown",
   "id": "ce408754",
   "metadata": {
    "papermill": {
     "duration": 0.003778,
     "end_time": "2025-01-28T15:42:13.163848",
     "exception": false,
     "start_time": "2025-01-28T15:42:13.160070",
     "status": "completed"
    },
    "tags": []
   },
   "source": [
    "# These layers are fundamental building blocks for constructing convolutional neural networks\n",
    "1. Conv2D\n",
    "\n",
    "        Purpose: Convolutional layer that applies a number of filters to the input data.\n",
    "        Usage: Commonly used in convolutional neural networks (CNNs) for image processing tasks.\n",
    "        Parameters:\n",
    "            filters: Number of output filters (feature maps).\n",
    "            kernel_size: Size of the convolutional kernel (filter). Can be a single integer (for square kernels) or a tuple for different height and width.\n",
    "            strides: The step size for moving the filter across the input. Default is (1, 1).\n",
    "            padding: Can be 'valid' (no padding) or 'same' (padding added to keep the same input shape).\n",
    "            activation: Activation function applied to the output (e.g., 'relu').\n",
    "        Importance: Helps the network learn spatial hierarchies of features, making it suitable for image data.\n",
    "\n",
    "\n",
    "2. Dense\n",
    "\n",
    "        Purpose: Fully connected layer that connects every input to every output.\n",
    "        Usage: Typically used in the final layers of a model for classification tasks.\n",
    "        Parameters:\n",
    "            units: Number of neurons in the layer.\n",
    "            activation: Activation function (e.g., 'relu', 'softmax' for multi-class classification).\n",
    "        Importance: Combines features learned by previous layers and outputs predictions.\n",
    "\n",
    "\n",
    "3. Flatten\n",
    "\n",
    "        Purpose: Converts the multi-dimensional input (e.g., from a Conv2D layer) into a one-dimensional array.\n",
    "        Usage: Used before the Dense layers to prepare data for a fully connected network.\n",
    "        Importance: Essential for transitioning from convolutional layers to fully connected layers by reshaping the data.\n",
    "\n",
    "\n",
    "4. MaxPooling2D\n",
    "\n",
    "        Purpose: Downsamples the input by taking the maximum value over a specified window (pooling region).\n",
    "        Usage: Reduces the spatial dimensions (width and height) of the input, retaining the most important features.\n",
    "        Parameters:\n",
    "            pool_size: Size of the pooling window (e.g., (2, 2)).\n",
    "            strides: Step size for moving the pooling window. If not specified, defaults to pool_size.\n",
    "            padding: Can be 'valid' or 'same'.\n",
    "        Importance: Helps reduce overfitting, decrease computational load, and extract dominant features.\n",
    "\n",
    "\n",
    "5. Dropout\n",
    "\n",
    "        Purpose: Regularization layer that randomly sets a fraction of input units to zero during training.\n",
    "        Usage: Used to prevent overfitting by making the network more robust.\n",
    "        Parameters:\n",
    "            rate: Fraction of the input units to drop (e.g., 0.5 means dropping half of the units).\n",
    "        Importance: Encourages the network to learn more robust features by preventing reliance on specific neurons.\n",
    "\n",
    "6. Input\n",
    "\n",
    "        Purpose: Defines the shape of the input data for the model.\n",
    "        Usage: Used as the first layer in a Sequential model or as part of a functional API.\n",
    "        Parameters:\n",
    "            shape: A tuple representing the input shape (excluding the batch size). For example, (height, width, channels).\n",
    "        Importance: Establishes the expected input shape and allows for error-checking during model creation.\n",
    "\n",
    "\n",
    "7. BatchNormalization\n",
    "\n",
    "        Purpose: Normalizes the activations of the previous layer at each batch, stabilizing the learning process.\n",
    "        Usage: Typically placed after a Conv2D or Dense layer and before the activation function.\n",
    "        Parameters:\n",
    "            momentum: Momentum for the moving average of the mean and variance.\n",
    "            epsilon: Small constant added to the variance to avoid division by zero.\n",
    "        Importance: Helps improve training speed and stability, can allow for higher learning rates, and may reduce the need for other forms of regularization."
   ]
  },
  {
   "cell_type": "code",
   "execution_count": 12,
   "id": "2a3ee199",
   "metadata": {
    "execution": {
     "iopub.execute_input": "2025-01-28T15:42:13.173457Z",
     "iopub.status.busy": "2025-01-28T15:42:13.172644Z",
     "iopub.status.idle": "2025-01-28T15:42:13.176469Z",
     "shell.execute_reply": "2025-01-28T15:42:13.175809Z"
    },
    "papermill": {
     "duration": 0.010155,
     "end_time": "2025-01-28T15:42:13.177953",
     "exception": false,
     "start_time": "2025-01-28T15:42:13.167798",
     "status": "completed"
    },
    "tags": []
   },
   "outputs": [],
   "source": [
    "# Building  the model \n",
    "\n",
    "\n",
    "\n",
    "\n",
    "\n",
    "\n",
    "\n",
    "\n",
    "\n",
    "# Example with batch normalization\n",
    "# model.add(tf.keras.layers.Conv2D(32, (3, 3), activation=None, input_shape=(150, 150, 3)))\n",
    "# model.add(BatchNormalization())\n",
    "# model.add(tf.keras.layers.Activation('relu'))\n",
    "# model.add(tf.keras.layers.MaxPooling2D(pool_size=(2, 2)))\n"
   ]
  },
  {
   "cell_type": "markdown",
   "id": "824b09cb",
   "metadata": {
    "papermill": {
     "duration": 0.00366,
     "end_time": "2025-01-28T15:42:13.185372",
     "exception": false,
     "start_time": "2025-01-28T15:42:13.181712",
     "status": "completed"
    },
    "tags": []
   },
   "source": [
    "Activation functions play a crucial role in neural networks by introducing non-linearity, enabling the model to learn complex patterns\n",
    "\n",
    "1. Sigmoid\n",
    "\n",
    "        Range: (0, 1)\n",
    "\n",
    "        Usage: Often used in binary classification tasks.\\\n",
    "\n",
    "        Characteristics:\n",
    "            Output values are always between 0 and 1.\n",
    "            Can suffer from the vanishing gradient problem, especially in deep networks.\n",
    "\n",
    "2. Tanh (Hyperbolic Tangent)\n",
    "\n",
    "    \n",
    "        Range: (-1, 1)\n",
    "\n",
    "        Usage: Used in hidden layers of neural networks.\n",
    "\n",
    "        Characteristics:\n",
    "            Centers the data around zero, which can help with convergence.\n",
    "            Still suffers from the vanishing gradient problem but is generally better than sigmoid.\n",
    "\n",
    "3. ReLU (Rectified Linear Unit)\n",
    " \n",
    "        Range: (0, ∞)\n",
    "\n",
    "        Usage: Commonly used in hidden layers of deep networks.\n",
    "\n",
    "        Characteristics:\n",
    "            Computationally efficient and mitigates the vanishing gradient problem.\n",
    "            Can suffer from the dying ReLU problem, where neurons can become inactive.\n",
    "\n",
    "4. Leaky ReLU\n",
    "\n",
    "\n",
    "        Range: (-∞, ∞)\n",
    "\n",
    "        Usage: A variant of ReLU to address the dying ReLU problem.\n",
    "\n",
    "        Characteristics:\n",
    "            Allows a small, non-zero gradient when the input is negative.\n",
    "            \n",
    "\n",
    "5. Parametric ReLU (PReLU)\n",
    "\n",
    "\n",
    "        Usage: Helps mitigate the dying ReLU issue with flexibility.\n",
    "\n",
    "        Characteristics:\n",
    "                Provides a more adaptable approach by learning the slope of negative inputs.\n",
    "\n",
    "\n",
    "\n",
    "6. Exponential Linear Unit (ELU)\n",
    "\n",
    "        Range: (-α, ∞)\n",
    "\n",
    "        Usage: Used in hidden layers to provide smoother outputs.\n",
    "\n",
    "        Characteristics: \n",
    "                 Helps avoid the vanishing gradient problem and allows negative outputs.\n",
    "\n",
    "\n",
    "\n",
    "7. Softmax\n",
    "\n",
    "        Range: (0, 1) for each output, and the sum of outputs equals 1.\n",
    "\n",
    "        Usage: Used in the output layer of multi-class classification tasks.\n",
    "\n",
    "        Characteristics:\n",
    "            Converts logits (raw scores) into probabilities.\n",
    "\n",
    "8. Swish\n",
    "\n",
    "        Range: (-∞, ∞)\n",
    "\n",
    "        Usage: Proposed by Google as a more effective alternative to ReLU in some contexts.\n",
    "\n",
    "        Characteristics:\n",
    "                Non-monotonic and can provide better performance in some deep learning models.\n",
    "\n",
    "\n",
    "\n",
    "9. GELU (Gaussian Error Linear Unit)\n",
    "\n",
    "        Usage: Used in transformer models like BERT.\n",
    "\n",
    "        Characteristics:\n",
    "                Combines properties of ReLU and dropout, leading to potentially better performance.\n",
    "\n"
   ]
  },
  {
   "cell_type": "code",
   "execution_count": 13,
   "id": "73478b83",
   "metadata": {
    "execution": {
     "iopub.execute_input": "2025-01-28T15:42:13.194782Z",
     "iopub.status.busy": "2025-01-28T15:42:13.193700Z",
     "iopub.status.idle": "2025-01-28T15:42:13.197937Z",
     "shell.execute_reply": "2025-01-28T15:42:13.197330Z"
    },
    "papermill": {
     "duration": 0.010425,
     "end_time": "2025-01-28T15:42:13.199537",
     "exception": false,
     "start_time": "2025-01-28T15:42:13.189112",
     "status": "completed"
    },
    "tags": []
   },
   "outputs": [],
   "source": [
    "# compile the model\n"
   ]
  },
  {
   "cell_type": "markdown",
   "id": "aed03e67",
   "metadata": {
    "papermill": {
     "duration": 0.003597,
     "end_time": "2025-01-28T15:42:13.207201",
     "exception": false,
     "start_time": "2025-01-28T15:42:13.203604",
     "status": "completed"
    },
    "tags": []
   },
   "source": [
    "# Optmizers\n",
    "An optimizer is an algorithm used to adjust the weights of the neural network based on the loss function's gradient.\n",
    "\n",
    "\n",
    "Adam (Adaptive Moment Estimation):\n",
    "\n",
    "    Description: Combines the advantages of two other popular optimizers: AdaGrad (which works well with sparse gradients) and RMSProp (which works well in non-stationary settings).\n",
    "    Features:\n",
    "        Maintains a moving average of both the gradients and the squared gradients.\n",
    "        Adapts the learning rate for each parameter, improving convergence speed.\n",
    "    Usage: optimizer='adam' is a default choice in many applications due to its efficiency and good performance across various tasks.\n",
    "\n",
    "SGD (Stochastic Gradient Descent):\n",
    "\n",
    "    Description: The basic form of the gradient descent algorithm. It updates parameters using a small batch of data rather than the entire dataset.\n",
    "    Features:\n",
    "        Simple to implement.\n",
    "        Can include momentum to improve convergence.\n",
    "    Usage: Often used for its simplicity but may require more tuning of the learning rate.\n",
    "\n",
    "RMSProp:\n",
    "\n",
    "    Description: An adaptive learning rate optimizer that adjusts the learning rate for each parameter based on the average of recent gradients.\n",
    "    Features:\n",
    "        Particularly effective for recurrent neural networks and other tasks with noisy gradients.\n",
    "    Usage: Good for non-stationary objectives.\n",
    "\n",
    "Adagrad:\n",
    "\n",
    "    Description: Adapts the learning rate for each parameter based on how frequently they're updated.\n",
    "    Features:\n",
    "        Works well for sparse data but can lead to a rapid decay of the learning rate.\n",
    "    Usage: Not as commonly used as Adam or RMSProp for most tasks.\n",
    "\n",
    "Nadam:\n",
    "\n",
    "    Description: Combines Adam with Nesterov momentum, which can lead to better convergence.\n",
    "    Usage: Useful for many deep learning tasks."
   ]
  },
  {
   "cell_type": "markdown",
   "id": "cee3aa6f",
   "metadata": {
    "papermill": {
     "duration": 0.003649,
     "end_time": "2025-01-28T15:42:13.214598",
     "exception": false,
     "start_time": "2025-01-28T15:42:13.210949",
     "status": "completed"
    },
    "tags": []
   },
   "source": [
    "# Loss function\n",
    "\n",
    "The loss function quantifies how well the model's predictions match the actual data\n",
    "\n",
    "Binary Crossentropy\n",
    "\n",
    "    Usage: Used for binary classification tasks.\n",
    "\n",
    "    Characteristics: Measures the dissimilarity between predicted probabilities and true binary labels.\n",
    "\n",
    "Sparse Categorical Crossentropy\n",
    "\n",
    "    Usage: Similar to categorical crossentropy but used when the labels are integers rather than one-hot encoded vectors.\n",
    "    Characteristics: Efficient for multi-class classification tasks with integer labels.\n",
    "\n",
    "Mean Squared Error (MSE)\n",
    "\n",
    "    Usage: Commonly used for regression tasks.\n",
    "    Characteristics: Measures the average squared difference between predicted values and actual values.\n",
    "\n",
    "Mean Absolute Error (MAE)\n",
    "\n",
    "    Usage: Also used for regression tasks.\n",
    "    Characteristics: Measures the average absolute difference between predicted values and actual values. Less sensitive to outliers than MSE.\n",
    "Categorical Crossentropy:\n",
    "\n",
    "    Usage: Commonly used for multi-class classification tasks where classes are one-hot encoded.\n",
    "    Characteristics: Measures the dissimilarity between the predicted probability distribution and the true distribution.\n",
    "Huber Loss\n",
    "\n",
    "    Usage: A combination of MSE and MAE, used for regression tasks.\n",
    "    Characteristics: Less sensitive to outliers than MSE. It behaves like MSE when the error is small and like MAE when the error is large.\n"
   ]
  },
  {
   "cell_type": "markdown",
   "id": "5fc504c3",
   "metadata": {
    "papermill": {
     "duration": 0.00368,
     "end_time": "2025-01-28T15:42:13.222018",
     "exception": false,
     "start_time": "2025-01-28T15:42:13.218338",
     "status": "completed"
    },
    "tags": []
   },
   "source": [
    "# Metrics\n",
    "\n",
    "Metrics are used to evaluate the performance of the model during training and testing. The metric you mentioned is:\n",
    "\n",
    "    Accuracy:\n",
    "        characteristic : The ratio of correctly predicted instances to the total instances.\n",
    "        Usage: A straightforward metric for classification problems. It gives a quick idea of model perfomance\n",
    "        \n",
    "    Precision\n",
    "\n",
    "        Usage: Measures the accuracy of positive predictions.\n",
    "        Characteristics: Important in cases where false positives are costly.\n",
    "\n",
    "    Recall (Sensitivity)\n",
    "\n",
    "        Usage: Measures the ability of a model to find all relevant cases (true positives).\n",
    "\n",
    "        Characteristics: Important in cases where missing a positive instance is costly.\n",
    "\n",
    "    F1 Score\n",
    "\n",
    "        Usage: Harmonic mean of precision and recall, useful for imbalanced datasets.\n",
    "\n",
    "        Characteristics: Balances precision and recall, providing a single metric to evaluate performance.\n",
    "\n",
    "    AUC-ROC (Area Under the Receiver Operating Characteristic Curve)\n",
    "\n",
    "        Usage: Measures the ability of the model to distinguish between classes.\n",
    "        \n",
    "        Characteristics: AUC provides a single value representing the model's performance across all classification thresholds.\n",
    "\n",
    "    Top-k Accuracy\n",
    "\n",
    "        Usage: Used in multi-class classification where you want to know if the true label is within the top k predictions.\n",
    "        Characteristics: Particularly useful in problems with a large number of classes (e.g., image classification)."
   ]
  },
  {
   "cell_type": "code",
   "execution_count": 14,
   "id": "b3a04938",
   "metadata": {
    "execution": {
     "iopub.execute_input": "2025-01-28T15:42:13.230963Z",
     "iopub.status.busy": "2025-01-28T15:42:13.230631Z",
     "iopub.status.idle": "2025-01-28T15:42:13.234517Z",
     "shell.execute_reply": "2025-01-28T15:42:13.233622Z"
    },
    "papermill": {
     "duration": 0.010299,
     "end_time": "2025-01-28T15:42:13.236100",
     "exception": false,
     "start_time": "2025-01-28T15:42:13.225801",
     "status": "completed"
    },
    "tags": []
   },
   "outputs": [],
   "source": [
    "# show model structer\n"
   ]
  },
  {
   "cell_type": "code",
   "execution_count": 15,
   "id": "dce1e2f2",
   "metadata": {
    "execution": {
     "iopub.execute_input": "2025-01-28T15:42:13.245926Z",
     "iopub.status.busy": "2025-01-28T15:42:13.245664Z",
     "iopub.status.idle": "2025-01-28T15:42:13.249095Z",
     "shell.execute_reply": "2025-01-28T15:42:13.248313Z"
    },
    "papermill": {
     "duration": 0.00955,
     "end_time": "2025-01-28T15:42:13.250654",
     "exception": false,
     "start_time": "2025-01-28T15:42:13.241104",
     "status": "completed"
    },
    "tags": []
   },
   "outputs": [],
   "source": [
    "# Train the model "
   ]
  }
 ],
 "metadata": {
  "kaggle": {
   "accelerator": "gpu",
   "dataSources": [
    {
     "datasetId": 1272,
     "sourceId": 2280,
     "sourceType": "datasetVersion"
    }
   ],
   "dockerImageVersionId": 30776,
   "isGpuEnabled": true,
   "isInternetEnabled": true,
   "language": "python",
   "sourceType": "notebook"
  },
  "kernelspec": {
   "display_name": "Python 3",
   "language": "python",
   "name": "python3"
  },
  "language_info": {
   "codemirror_mode": {
    "name": "ipython",
    "version": 3
   },
   "file_extension": ".py",
   "mimetype": "text/x-python",
   "name": "python",
   "nbconvert_exporter": "python",
   "pygments_lexer": "ipython3",
   "version": "3.10.14"
  },
  "papermill": {
   "default_parameters": {},
   "duration": 17.6762,
   "end_time": "2025-01-28T15:42:15.537374",
   "environment_variables": {},
   "exception": null,
   "input_path": "__notebook__.ipynb",
   "output_path": "__notebook__.ipynb",
   "parameters": {},
   "start_time": "2025-01-28T15:41:57.861174",
   "version": "2.6.0"
  }
 },
 "nbformat": 4,
 "nbformat_minor": 5
}
