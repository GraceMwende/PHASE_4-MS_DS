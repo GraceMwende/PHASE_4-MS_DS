{
 "cells": [
  {
   "cell_type": "markdown",
   "metadata": {},
   "source": [
    "# Interpreting White-Boxes: Building a Decision Engine"
   ]
  },
  {
   "cell_type": "markdown",
   "metadata": {},
   "source": [
    "## Introduction\n",
    "\n",
    "In general white-box models are intrinsically interpretable. In other words, the mechanism used by the model to make the decision is more transparent and easy to explain in non-technical terms than complex tree-based models and neural networks. __Decision engines__ are pipelines that are specially programmed with __business rules__ that are derived from __domain knowledge__. Many decision engines use a combination of business rules and machine learning to achieve more reliable results. Business rules define the criteria and constraints that the decision engine must follow, while machine learning provides the ability to learn from data and identify patterns and relationships in the information that is relevant to the decision being made.\n",
    "\n",
    "In this lesson, we will use scikit-learn to build a decision engine that we can use in an urban development scenario to classify homes as McMansions. First, we will discuss the use-case and prepare you with some domain knowledge. Then, we will discuss how to formulate the business rules that define McMansions. Next, we will code those rules in Python and apply them to our training data. Then, we will use two white-box models in scikit-learn, logistic regression and decision trees, to build a decision engine for buying McMansions. Finally, we will review some of the techniques available in scikit-learn to interpret the results of our model. Most importantly, we will explain how the pieces of the decision engine work together to achieve interpretable results."
   ]
  },
  {
   "cell_type": "markdown",
   "metadata": {},
   "source": [
    "## Objectives\n",
    "\n",
    "You will be able to:\n",
    "\n",
    "* Describe a decision engine and how they use business rules and machine learning to automate decisions\n",
    "* Build a decision engine in scikit-learn using business rules and white-box models\n",
    "* Generate metrics to interpret and evaluate results of decision engine\n",
    "* Create a high level explanation based on metrics and domain knowledge. "
   ]
  },
  {
   "cell_type": "markdown",
   "metadata": {},
   "source": [
    "## Building a Decision Engine to Buy McMansions\n",
    "\n",
    "Decision engines automate decision making by using two kinds of inputs, business rules and machine learning. The rationale for using both is that combining them can yield more interpretable results. Here are some reasons why:\n",
    "\n",
    "* Business rules may provide a baseline decision based on predefined criteria and can act as a default decision when machine learning models are uncertain.\n",
    "* Machine learning models may be used to provide additional insight and suggest modifications to the business rules, based on the data and patterns that they have learned from previous decisions.\n",
    "* This combination allows decision engines to be both flexible and consistent in their decision-making, combining the strengths of both business rules and machine learning.\n",
    "\n",
    "The general process for building the decision engine will be as follows:\n",
    "1. Gather domain knowledge\n",
    "2. Determine methodology\n",
    "3. Select training data\n",
    "4. EDA/Encode business rules\n",
    "6. Preprocessing/label training data\n",
    "7. Train regression model\n",
    "8. Train decision tree\n",
    "\n",
    "Let's get to work!\n",
    "\n",
    "\n",
    "### 1. Gather Domain Knowledge\n",
    "McMansions are large, mass-produced houses built in suburban areas with a focus on size rather than architectural design. They are often criticized for their lack of aesthetic appeal and poor construction quality. They also tend to be overpriced relative to similar homes in the same area, making them a bad investment. Additionally, their cookie-cutter design can result in declining property values and decreased demand, further reducing their investment potential.\n",
    "\n",
    "Consider the following scenario:\n",
    "\n",
    "McMansions became popular in the late 1980s and 1990s and saw a surge in popularity through the early 2000s, especially in suburban areas. The trend was driven by a strong housing market, low interest rates, and a desire for larger homes with more amenities. The popularity of McMansions declined after the 2008 housing crisis, as more home buyers shifted towards smaller, more sustainable, and energy-efficient homes. Since many McMansions are reaching the end of their lifespan, there is a lot of talk about what to do with all of the suburban sprawl that will need to be replaced.\n",
    "\n",
    "Suppose you work for an urban planning firm, that is tasked with identifying potential sights for a new mixed-use walkable neighborhood district to replace a large swath of aging McMansions. You decide that the best way to do this is to train a model to evaluate real-estate listings and create a list McMansions you would like to buy. Is there a way that you can build a decision engine that can automate the task of determining if a home is a McMansion, estimating the current market value, and decide if belongs on the list?\n",
    "\n",
    "Since we do not have labeled data to classify the homes, we will have to apply labels to our training data using __business rules__ based on our __domain knowledge__ of McMansions. Then, we can use machine learning to automate that decision on future datasets, as well as learn about what other features are common among our target. \n",
    "\n",
    "While we may not be able to find all of these features in the data, there are some of the quintessential features that make a house a McMansion that we can distill into simple rules:\n",
    "\n",
    "* Single-family homes\n",
    "* Built between 1980 and 2010\n",
    "* 2,000+ square feet\n",
    "* Sale price in the upper quartile for that neighborhood\n",
    "\n",
    "Now that we know what a McMansion is, let's try to find some.\n",
    "\n",
    "### 2. Determine Methodology\n",
    "To build the decision engine, we need to use logic to break the task down into smaller steps. Later on, this will help us to explain the decision mechanism. Broadly, this is our approach:\n",
    "\n",
    "1. First, we need to identify examples of our target class using domain knowledge to encode business rules apply them to the training data to create the target variable `IS_MCMANSION`.\n",
    "\n",
    "2. Then, we need train a classifier (in this case, logistic regression) to identify McMansions in our test dataset.\n",
    "\n",
    "3. Then, we will train a decision tree classifier to identify McMansions in our dataset.\n",
    "\n",
    "Since we have articulated our methodology, we can select and import some training data. Then, we will tackle the first task of identifying and labeling the target class."
   ]
  },
  {
   "cell_type": "markdown",
   "metadata": {},
   "source": [
    "### 3. Select and Import Training Data\n",
    "To train our model, we are going to use the __Ames Housing Dataset__. In the cell below, we will import the data, then we will do some quick EDA and apply our business rules. For this lesson, we are keeping the EDA simple to focus more on model interpretability. In practice, you would want to do a more thorough EDA to customize your preprocessing for your use case. Building models is also an iterative process, so you will often return to tweak preprocessing steps if you find that certain choices have interfered with the results. "
   ]
  },
  {
   "cell_type": "code",
   "execution_count": 53,
   "metadata": {},
   "outputs": [],
   "source": [
    "import matplotlib.pyplot as plt\n",
    "\n",
    "from sklearn.model_selection import train_test_split\n",
    "from sklearn.linear_model import LogisticRegression\n",
    "from sklearn.metrics import mean_absolute_error,mean_squared_error,r2_score\n",
    "\n",
    "from sklearn import preprocessing\n",
    "le = preprocessing.LabelEncoder()"
   ]
  },
  {
   "cell_type": "code",
   "execution_count": 92,
   "metadata": {},
   "outputs": [
    {
     "data": {
      "text/html": [
       "<div>\n",
       "<style scoped>\n",
       "    .dataframe tbody tr th:only-of-type {\n",
       "        vertical-align: middle;\n",
       "    }\n",
       "\n",
       "    .dataframe tbody tr th {\n",
       "        vertical-align: top;\n",
       "    }\n",
       "\n",
       "    .dataframe thead th {\n",
       "        text-align: right;\n",
       "    }\n",
       "</style>\n",
       "<table border=\"1\" class=\"dataframe\">\n",
       "  <thead>\n",
       "    <tr style=\"text-align: right;\">\n",
       "      <th></th>\n",
       "      <th>Id</th>\n",
       "      <th>MSSubClass</th>\n",
       "      <th>MSZoning</th>\n",
       "      <th>LotFrontage</th>\n",
       "      <th>LotArea</th>\n",
       "      <th>Street</th>\n",
       "      <th>Alley</th>\n",
       "      <th>LotShape</th>\n",
       "      <th>LandContour</th>\n",
       "      <th>Utilities</th>\n",
       "      <th>...</th>\n",
       "      <th>PoolArea</th>\n",
       "      <th>PoolQC</th>\n",
       "      <th>Fence</th>\n",
       "      <th>MiscFeature</th>\n",
       "      <th>MiscVal</th>\n",
       "      <th>MoSold</th>\n",
       "      <th>YrSold</th>\n",
       "      <th>SaleType</th>\n",
       "      <th>SaleCondition</th>\n",
       "      <th>SalePrice</th>\n",
       "    </tr>\n",
       "  </thead>\n",
       "  <tbody>\n",
       "    <tr>\n",
       "      <th>0</th>\n",
       "      <td>1</td>\n",
       "      <td>60</td>\n",
       "      <td>RL</td>\n",
       "      <td>65.0</td>\n",
       "      <td>8450</td>\n",
       "      <td>Pave</td>\n",
       "      <td>NaN</td>\n",
       "      <td>Reg</td>\n",
       "      <td>Lvl</td>\n",
       "      <td>AllPub</td>\n",
       "      <td>...</td>\n",
       "      <td>0</td>\n",
       "      <td>NaN</td>\n",
       "      <td>NaN</td>\n",
       "      <td>NaN</td>\n",
       "      <td>0</td>\n",
       "      <td>2</td>\n",
       "      <td>2008</td>\n",
       "      <td>WD</td>\n",
       "      <td>Normal</td>\n",
       "      <td>208500</td>\n",
       "    </tr>\n",
       "    <tr>\n",
       "      <th>1</th>\n",
       "      <td>2</td>\n",
       "      <td>20</td>\n",
       "      <td>RL</td>\n",
       "      <td>80.0</td>\n",
       "      <td>9600</td>\n",
       "      <td>Pave</td>\n",
       "      <td>NaN</td>\n",
       "      <td>Reg</td>\n",
       "      <td>Lvl</td>\n",
       "      <td>AllPub</td>\n",
       "      <td>...</td>\n",
       "      <td>0</td>\n",
       "      <td>NaN</td>\n",
       "      <td>NaN</td>\n",
       "      <td>NaN</td>\n",
       "      <td>0</td>\n",
       "      <td>5</td>\n",
       "      <td>2007</td>\n",
       "      <td>WD</td>\n",
       "      <td>Normal</td>\n",
       "      <td>181500</td>\n",
       "    </tr>\n",
       "    <tr>\n",
       "      <th>2</th>\n",
       "      <td>3</td>\n",
       "      <td>60</td>\n",
       "      <td>RL</td>\n",
       "      <td>68.0</td>\n",
       "      <td>11250</td>\n",
       "      <td>Pave</td>\n",
       "      <td>NaN</td>\n",
       "      <td>IR1</td>\n",
       "      <td>Lvl</td>\n",
       "      <td>AllPub</td>\n",
       "      <td>...</td>\n",
       "      <td>0</td>\n",
       "      <td>NaN</td>\n",
       "      <td>NaN</td>\n",
       "      <td>NaN</td>\n",
       "      <td>0</td>\n",
       "      <td>9</td>\n",
       "      <td>2008</td>\n",
       "      <td>WD</td>\n",
       "      <td>Normal</td>\n",
       "      <td>223500</td>\n",
       "    </tr>\n",
       "    <tr>\n",
       "      <th>3</th>\n",
       "      <td>4</td>\n",
       "      <td>70</td>\n",
       "      <td>RL</td>\n",
       "      <td>60.0</td>\n",
       "      <td>9550</td>\n",
       "      <td>Pave</td>\n",
       "      <td>NaN</td>\n",
       "      <td>IR1</td>\n",
       "      <td>Lvl</td>\n",
       "      <td>AllPub</td>\n",
       "      <td>...</td>\n",
       "      <td>0</td>\n",
       "      <td>NaN</td>\n",
       "      <td>NaN</td>\n",
       "      <td>NaN</td>\n",
       "      <td>0</td>\n",
       "      <td>2</td>\n",
       "      <td>2006</td>\n",
       "      <td>WD</td>\n",
       "      <td>Abnorml</td>\n",
       "      <td>140000</td>\n",
       "    </tr>\n",
       "    <tr>\n",
       "      <th>4</th>\n",
       "      <td>5</td>\n",
       "      <td>60</td>\n",
       "      <td>RL</td>\n",
       "      <td>84.0</td>\n",
       "      <td>14260</td>\n",
       "      <td>Pave</td>\n",
       "      <td>NaN</td>\n",
       "      <td>IR1</td>\n",
       "      <td>Lvl</td>\n",
       "      <td>AllPub</td>\n",
       "      <td>...</td>\n",
       "      <td>0</td>\n",
       "      <td>NaN</td>\n",
       "      <td>NaN</td>\n",
       "      <td>NaN</td>\n",
       "      <td>0</td>\n",
       "      <td>12</td>\n",
       "      <td>2008</td>\n",
       "      <td>WD</td>\n",
       "      <td>Normal</td>\n",
       "      <td>250000</td>\n",
       "    </tr>\n",
       "    <tr>\n",
       "      <th>...</th>\n",
       "      <td>...</td>\n",
       "      <td>...</td>\n",
       "      <td>...</td>\n",
       "      <td>...</td>\n",
       "      <td>...</td>\n",
       "      <td>...</td>\n",
       "      <td>...</td>\n",
       "      <td>...</td>\n",
       "      <td>...</td>\n",
       "      <td>...</td>\n",
       "      <td>...</td>\n",
       "      <td>...</td>\n",
       "      <td>...</td>\n",
       "      <td>...</td>\n",
       "      <td>...</td>\n",
       "      <td>...</td>\n",
       "      <td>...</td>\n",
       "      <td>...</td>\n",
       "      <td>...</td>\n",
       "      <td>...</td>\n",
       "      <td>...</td>\n",
       "    </tr>\n",
       "    <tr>\n",
       "      <th>1455</th>\n",
       "      <td>1456</td>\n",
       "      <td>60</td>\n",
       "      <td>RL</td>\n",
       "      <td>62.0</td>\n",
       "      <td>7917</td>\n",
       "      <td>Pave</td>\n",
       "      <td>NaN</td>\n",
       "      <td>Reg</td>\n",
       "      <td>Lvl</td>\n",
       "      <td>AllPub</td>\n",
       "      <td>...</td>\n",
       "      <td>0</td>\n",
       "      <td>NaN</td>\n",
       "      <td>NaN</td>\n",
       "      <td>NaN</td>\n",
       "      <td>0</td>\n",
       "      <td>8</td>\n",
       "      <td>2007</td>\n",
       "      <td>WD</td>\n",
       "      <td>Normal</td>\n",
       "      <td>175000</td>\n",
       "    </tr>\n",
       "    <tr>\n",
       "      <th>1456</th>\n",
       "      <td>1457</td>\n",
       "      <td>20</td>\n",
       "      <td>RL</td>\n",
       "      <td>85.0</td>\n",
       "      <td>13175</td>\n",
       "      <td>Pave</td>\n",
       "      <td>NaN</td>\n",
       "      <td>Reg</td>\n",
       "      <td>Lvl</td>\n",
       "      <td>AllPub</td>\n",
       "      <td>...</td>\n",
       "      <td>0</td>\n",
       "      <td>NaN</td>\n",
       "      <td>MnPrv</td>\n",
       "      <td>NaN</td>\n",
       "      <td>0</td>\n",
       "      <td>2</td>\n",
       "      <td>2010</td>\n",
       "      <td>WD</td>\n",
       "      <td>Normal</td>\n",
       "      <td>210000</td>\n",
       "    </tr>\n",
       "    <tr>\n",
       "      <th>1457</th>\n",
       "      <td>1458</td>\n",
       "      <td>70</td>\n",
       "      <td>RL</td>\n",
       "      <td>66.0</td>\n",
       "      <td>9042</td>\n",
       "      <td>Pave</td>\n",
       "      <td>NaN</td>\n",
       "      <td>Reg</td>\n",
       "      <td>Lvl</td>\n",
       "      <td>AllPub</td>\n",
       "      <td>...</td>\n",
       "      <td>0</td>\n",
       "      <td>NaN</td>\n",
       "      <td>GdPrv</td>\n",
       "      <td>Shed</td>\n",
       "      <td>2500</td>\n",
       "      <td>5</td>\n",
       "      <td>2010</td>\n",
       "      <td>WD</td>\n",
       "      <td>Normal</td>\n",
       "      <td>266500</td>\n",
       "    </tr>\n",
       "    <tr>\n",
       "      <th>1458</th>\n",
       "      <td>1459</td>\n",
       "      <td>20</td>\n",
       "      <td>RL</td>\n",
       "      <td>68.0</td>\n",
       "      <td>9717</td>\n",
       "      <td>Pave</td>\n",
       "      <td>NaN</td>\n",
       "      <td>Reg</td>\n",
       "      <td>Lvl</td>\n",
       "      <td>AllPub</td>\n",
       "      <td>...</td>\n",
       "      <td>0</td>\n",
       "      <td>NaN</td>\n",
       "      <td>NaN</td>\n",
       "      <td>NaN</td>\n",
       "      <td>0</td>\n",
       "      <td>4</td>\n",
       "      <td>2010</td>\n",
       "      <td>WD</td>\n",
       "      <td>Normal</td>\n",
       "      <td>142125</td>\n",
       "    </tr>\n",
       "    <tr>\n",
       "      <th>1459</th>\n",
       "      <td>1460</td>\n",
       "      <td>20</td>\n",
       "      <td>RL</td>\n",
       "      <td>75.0</td>\n",
       "      <td>9937</td>\n",
       "      <td>Pave</td>\n",
       "      <td>NaN</td>\n",
       "      <td>Reg</td>\n",
       "      <td>Lvl</td>\n",
       "      <td>AllPub</td>\n",
       "      <td>...</td>\n",
       "      <td>0</td>\n",
       "      <td>NaN</td>\n",
       "      <td>NaN</td>\n",
       "      <td>NaN</td>\n",
       "      <td>0</td>\n",
       "      <td>6</td>\n",
       "      <td>2008</td>\n",
       "      <td>WD</td>\n",
       "      <td>Normal</td>\n",
       "      <td>147500</td>\n",
       "    </tr>\n",
       "  </tbody>\n",
       "</table>\n",
       "<p>1460 rows × 81 columns</p>\n",
       "</div>"
      ],
      "text/plain": [
       "        Id  MSSubClass MSZoning  LotFrontage  LotArea Street Alley LotShape  \\\n",
       "0        1          60       RL         65.0     8450   Pave   NaN      Reg   \n",
       "1        2          20       RL         80.0     9600   Pave   NaN      Reg   \n",
       "2        3          60       RL         68.0    11250   Pave   NaN      IR1   \n",
       "3        4          70       RL         60.0     9550   Pave   NaN      IR1   \n",
       "4        5          60       RL         84.0    14260   Pave   NaN      IR1   \n",
       "...    ...         ...      ...          ...      ...    ...   ...      ...   \n",
       "1455  1456          60       RL         62.0     7917   Pave   NaN      Reg   \n",
       "1456  1457          20       RL         85.0    13175   Pave   NaN      Reg   \n",
       "1457  1458          70       RL         66.0     9042   Pave   NaN      Reg   \n",
       "1458  1459          20       RL         68.0     9717   Pave   NaN      Reg   \n",
       "1459  1460          20       RL         75.0     9937   Pave   NaN      Reg   \n",
       "\n",
       "     LandContour Utilities  ... PoolArea PoolQC  Fence MiscFeature MiscVal  \\\n",
       "0            Lvl    AllPub  ...        0    NaN    NaN         NaN       0   \n",
       "1            Lvl    AllPub  ...        0    NaN    NaN         NaN       0   \n",
       "2            Lvl    AllPub  ...        0    NaN    NaN         NaN       0   \n",
       "3            Lvl    AllPub  ...        0    NaN    NaN         NaN       0   \n",
       "4            Lvl    AllPub  ...        0    NaN    NaN         NaN       0   \n",
       "...          ...       ...  ...      ...    ...    ...         ...     ...   \n",
       "1455         Lvl    AllPub  ...        0    NaN    NaN         NaN       0   \n",
       "1456         Lvl    AllPub  ...        0    NaN  MnPrv         NaN       0   \n",
       "1457         Lvl    AllPub  ...        0    NaN  GdPrv        Shed    2500   \n",
       "1458         Lvl    AllPub  ...        0    NaN    NaN         NaN       0   \n",
       "1459         Lvl    AllPub  ...        0    NaN    NaN         NaN       0   \n",
       "\n",
       "     MoSold YrSold  SaleType  SaleCondition  SalePrice  \n",
       "0         2   2008        WD         Normal     208500  \n",
       "1         5   2007        WD         Normal     181500  \n",
       "2         9   2008        WD         Normal     223500  \n",
       "3         2   2006        WD        Abnorml     140000  \n",
       "4        12   2008        WD         Normal     250000  \n",
       "...     ...    ...       ...            ...        ...  \n",
       "1455      8   2007        WD         Normal     175000  \n",
       "1456      2   2010        WD         Normal     210000  \n",
       "1457      5   2010        WD         Normal     266500  \n",
       "1458      4   2010        WD         Normal     142125  \n",
       "1459      6   2008        WD         Normal     147500  \n",
       "\n",
       "[1460 rows x 81 columns]"
      ]
     },
     "execution_count": 92,
     "metadata": {},
     "output_type": "execute_result"
    }
   ],
   "source": [
    "import pandas as pd\n",
    "import numpy as np\n",
    "\n",
    "df = pd.read_csv('data/housing_prices.csv',na_values='?')\n",
    "df"
   ]
  },
  {
   "cell_type": "markdown",
   "metadata": {},
   "source": [
    "### 4. Conduct EDA and Implement Business Rules\n",
    "How can we code rules to identify McMansions in the training data? \n",
    "\n",
    "First, we identify the features that correspond the rules we want to check. Then, we use conditional logic to create columns with binary indicators that flag rows which have the correct values. For expediency, we have located the relevant features in the data and demonstrates how to derive the new features.\n",
    "\n",
    "For a detailed description of all the features, uncomment the cell below to read the data description."
   ]
  },
  {
   "cell_type": "code",
   "execution_count": 55,
   "metadata": {},
   "outputs": [
    {
     "name": "stdout",
     "output_type": "stream",
     "text": [
      "[   'MSSubClass: Identifies the type of dwelling involved in the sale.',\n",
      "    '201-STORY 1946 & NEWER ALL STYLES',\n",
      "    '301-STORY 1945 & OLDER',\n",
      "    '401-STORY W/FINISHED ATTIC ALL AGES',\n",
      "    '451-1/2 STORY - UNFINISHED ALL AGES',\n",
      "    '501-1/2 STORY FINISHED ALL AGES',\n",
      "    '602-STORY 1946 & NEWER',\n",
      "    '702-STORY 1945 & OLDER',\n",
      "    '752-1/2 STORY ALL AGES',\n",
      "    '80SPLIT OR MULTI-LEVEL',\n",
      "    '85SPLIT FOYER',\n",
      "    '90DUPLEX - ALL STYLES AND AGES',\n",
      "    '1201-STORY PUD (Planned Unit Development) - 1946 & NEWER',\n",
      "    '1501-1/2 STORY PUD - ALL AGES',\n",
      "    '1602-STORY PUD - 1946 & NEWER',\n",
      "    '180PUD - MULTILEVEL - INCL SPLIT LEV/FOYER',\n",
      "    '1902 FAMILY CONVERSION - ALL STYLES AND AGES',\n",
      "    'MSZoning: Identifies the general zoning classification of the sale.',\n",
      "    'AAgriculture',\n",
      "    'CCommercial',\n",
      "    'FVFloating Village Residential',\n",
      "    'IIndustrial',\n",
      "    'RHResidential High Density',\n",
      "    'RLResidential Low Density',\n",
      "    'RPResidential Low Density Park',\n",
      "    'RMResidential Medium Density',\n",
      "    'LotFrontage: Linear feet of street connected to property',\n",
      "    'LotArea: Lot size in square feet',\n",
      "    'Street: Type of road access to property',\n",
      "    'GrvlGravel',\n",
      "    'PavePaved',\n",
      "    'Alley: Type of alley access to property',\n",
      "    'GrvlGravel',\n",
      "    'PavePaved',\n",
      "    'NA No alley access',\n",
      "    'LotShape: General shape of property',\n",
      "    'RegRegular',\n",
      "    'IR1Slightly irregular',\n",
      "    'IR2Moderately Irregular',\n",
      "    'IR3Irregular',\n",
      "    'LandContour: Flatness of the property',\n",
      "    'LvlNear Flat/Level',\n",
      "    'BnkBanked - Quick and significant rise from street grade to building',\n",
      "    'HLSHillside - Significant slope from side to side',\n",
      "    'LowDepression',\n",
      "    'Utilities: Type of utilities available',\n",
      "    'AllPubAll public Utilities (E,G,W,& S)',\n",
      "    'NoSewrElectricity, Gas, and Water (Septic Tank)',\n",
      "    'NoSeWaElectricity and Gas Only',\n",
      "    'ELOElectricity only',\n",
      "    'LotConfig: Lot configuration',\n",
      "    'InsideInside lot',\n",
      "    'CornerCorner lot',\n",
      "    'CulDSacCul-de-sac',\n",
      "    'FR2Frontage on 2 sides of property',\n",
      "    'FR3Frontage on 3 sides of property',\n",
      "    'LandSlope: Slope of property',\n",
      "    'GtlGentle slope',\n",
      "    'ModModerate Slope',\n",
      "    'SevSevere Slope',\n",
      "    'Neighborhood: Physical locations within Ames city limits',\n",
      "    'BlmngtnBloomington Heights',\n",
      "    'BluesteBluestem',\n",
      "    'BrDaleBriardale',\n",
      "    'BrkSideBrookside',\n",
      "    'ClearCrClear Creek',\n",
      "    'CollgCrCollege Creek',\n",
      "    'CrawforCrawford',\n",
      "    'EdwardsEdwards',\n",
      "    'GilbertGilbert',\n",
      "    'IDOTRRIowa DOT and Rail Road',\n",
      "    'MeadowVMeadow Village',\n",
      "    'MitchelMitchell',\n",
      "    'NamesNorth Ames',\n",
      "    'NoRidgeNorthridge',\n",
      "    'NPkVillNorthpark Villa',\n",
      "    'NridgHtNorthridge Heights',\n",
      "    'NWAmesNorthwest Ames',\n",
      "    'OldTownOld Town',\n",
      "    'SWISUSouth & West of Iowa State University',\n",
      "    'SawyerSawyer',\n",
      "    'SawyerWSawyer West',\n",
      "    'SomerstSomerset',\n",
      "    'StoneBrStone Brook',\n",
      "    'TimberTimberland',\n",
      "    'VeenkerVeenker',\n",
      "    'Condition1: Proximity to various conditions',\n",
      "    'ArteryAdjacent to arterial street',\n",
      "    'FeedrAdjacent to feeder street',\n",
      "    'NormNormal',\n",
      "    \"RRNnWithin 200' of North-South Railroad\",\n",
      "    'RRAnAdjacent to North-South Railroad',\n",
      "    'PosNNear positive off-site feature--park, greenbelt, etc.',\n",
      "    'PosAAdjacent to postive off-site feature',\n",
      "    \"RRNeWithin 200' of East-West Railroad\",\n",
      "    'RRAeAdjacent to East-West Railroad',\n",
      "    'Condition2: Proximity to various conditions (if more than one is present)',\n",
      "    'ArteryAdjacent to arterial street',\n",
      "    'FeedrAdjacent to feeder street',\n",
      "    'NormNormal',\n",
      "    \"RRNnWithin 200' of North-South Railroad\",\n",
      "    'RRAnAdjacent to North-South Railroad',\n",
      "    'PosNNear positive off-site feature--park, greenbelt, etc.',\n",
      "    'PosAAdjacent to postive off-site feature',\n",
      "    \"RRNeWithin 200' of East-West Railroad\",\n",
      "    'RRAeAdjacent to East-West Railroad',\n",
      "    'BldgType: Type of dwelling',\n",
      "    '1FamSingle-family Detached',\n",
      "    '2FmConTwo-family Conversion; originally built as one-family dwelling',\n",
      "    'DuplxDuplex',\n",
      "    'TwnhsETownhouse End Unit',\n",
      "    'TwnhsITownhouse Inside Unit',\n",
      "    'HouseStyle: Style of dwelling',\n",
      "    '1StoryOne story',\n",
      "    '1.5FinOne and one-half story: 2nd level finished',\n",
      "    '1.5UnfOne and one-half story: 2nd level unfinished',\n",
      "    '2StoryTwo story',\n",
      "    '2.5FinTwo and one-half story: 2nd level finished',\n",
      "    '2.5UnfTwo and one-half story: 2nd level unfinished',\n",
      "    'SFoyerSplit Foyer',\n",
      "    'SLvlSplit Level',\n",
      "    'OverallQual: Rates the overall material and finish of the house',\n",
      "    '10Very Excellent',\n",
      "    '9Excellent',\n",
      "    '8Very Good',\n",
      "    '7Good',\n",
      "    '6Above Average',\n",
      "    '5Average',\n",
      "    '4Below Average',\n",
      "    '3Fair',\n",
      "    '2Poor',\n",
      "    '1Very Poor',\n",
      "    'OverallCond: Rates the overall condition of the house',\n",
      "    '10Very Excellent',\n",
      "    '9Excellent',\n",
      "    '8Very Good',\n",
      "    '7Good',\n",
      "    '6Above Average',\n",
      "    '5Average',\n",
      "    '4Below Average',\n",
      "    '3Fair',\n",
      "    '2Poor',\n",
      "    '1Very Poor',\n",
      "    'YearBuilt: Original construction date',\n",
      "    'YearRemodAdd: Remodel date (same as construction date if no remodeling or '\n",
      "    'additions)',\n",
      "    'RoofStyle: Type of roof',\n",
      "    'FlatFlat',\n",
      "    'GableGable',\n",
      "    'GambrelGabrel (Barn)',\n",
      "    'HipHip',\n",
      "    'MansardMansard',\n",
      "    'ShedShed',\n",
      "    'RoofMatl: Roof material',\n",
      "    'ClyTileClay or Tile',\n",
      "    'CompShgStandard (Composite) Shingle',\n",
      "    'MembranMembrane',\n",
      "    'MetalMetal',\n",
      "    'RollRoll',\n",
      "    'Tar&GrvGravel & Tar',\n",
      "    'WdShakeWood Shakes',\n",
      "    'WdShnglWood Shingles',\n",
      "    'Exterior1st: Exterior covering on house',\n",
      "    'AsbShngAsbestos Shingles',\n",
      "    'AsphShnAsphalt Shingles',\n",
      "    'BrkCommBrick Common',\n",
      "    'BrkFaceBrick Face',\n",
      "    'CBlockCinder Block',\n",
      "    'CemntBdCement Board',\n",
      "    'HdBoardHard Board',\n",
      "    'ImStuccImitation Stucco',\n",
      "    'MetalSdMetal Siding',\n",
      "    'OtherOther',\n",
      "    'PlywoodPlywood',\n",
      "    'PreCastPreCast',\n",
      "    'StoneStone',\n",
      "    'StuccoStucco',\n",
      "    'VinylSdVinyl Siding',\n",
      "    'Wd SdngWood Siding',\n",
      "    'WdShingWood Shingles',\n",
      "    'Exterior2nd: Exterior covering on house (if more than one material)',\n",
      "    'AsbShngAsbestos Shingles',\n",
      "    'AsphShnAsphalt Shingles',\n",
      "    'BrkCommBrick Common',\n",
      "    'BrkFaceBrick Face',\n",
      "    'CBlockCinder Block',\n",
      "    'CemntBdCement Board',\n",
      "    'HdBoardHard Board',\n",
      "    'ImStuccImitation Stucco',\n",
      "    'MetalSdMetal Siding',\n",
      "    'OtherOther',\n",
      "    'PlywoodPlywood',\n",
      "    'PreCastPreCast',\n",
      "    'StoneStone',\n",
      "    'StuccoStucco',\n",
      "    'VinylSdVinyl Siding',\n",
      "    'Wd SdngWood Siding',\n",
      "    'WdShingWood Shingles',\n",
      "    'MasVnrType: Masonry veneer type',\n",
      "    'BrkCmnBrick Common',\n",
      "    'BrkFaceBrick Face',\n",
      "    'CBlockCinder Block',\n",
      "    'NoneNone',\n",
      "    'StoneStone',\n",
      "    'MasVnrArea: Masonry veneer area in square feet',\n",
      "    'ExterQual: Evaluates the quality of the material on the exterior',\n",
      "    'ExExcellent',\n",
      "    'GdGood',\n",
      "    'TAAverage/Typical',\n",
      "    'FaFair',\n",
      "    'PoPoor',\n",
      "    'ExterCond: Evaluates the present condition of the material on the '\n",
      "    'exterior',\n",
      "    'ExExcellent',\n",
      "    'GdGood',\n",
      "    'TAAverage/Typical',\n",
      "    'FaFair',\n",
      "    'PoPoor',\n",
      "    'Foundation: Type of foundation',\n",
      "    'BrkTilBrick & Tile',\n",
      "    'CBlockCinder Block',\n",
      "    'PConcPoured Contrete',\n",
      "    'SlabSlab',\n",
      "    'StoneStone',\n",
      "    'WoodWood',\n",
      "    'BsmtQual: Evaluates the height of the basement',\n",
      "    'ExExcellent (100+ inches)',\n",
      "    'GdGood (90-99 inches)',\n",
      "    'TATypical (80-89 inches)',\n",
      "    'FaFair (70-79 inches)',\n",
      "    'PoPoor (<70 inches',\n",
      "    'NANo Basement',\n",
      "    'BsmtCond: Evaluates the general condition of the basement',\n",
      "    'ExExcellent',\n",
      "    'GdGood',\n",
      "    'TATypical - slight dampness allowed',\n",
      "    'FaFair - dampness or some cracking or settling',\n",
      "    'PoPoor - Severe cracking, settling, or wetness',\n",
      "    'NANo Basement',\n",
      "    'BsmtExposure: Refers to walkout or garden level walls',\n",
      "    'GdGood Exposure',\n",
      "    'AvAverage Exposure (split levels or foyers typically score average or '\n",
      "    'above)',\n",
      "    'MnMimimum Exposure',\n",
      "    'NoNo Exposure',\n",
      "    'NANo Basement',\n",
      "    'BsmtFinType1: Rating of basement finished area',\n",
      "    'GLQGood Living Quarters',\n",
      "    'ALQAverage Living Quarters',\n",
      "    'BLQBelow Average Living Quarters',\n",
      "    'RecAverage Rec Room',\n",
      "    'LwQLow Quality',\n",
      "    'UnfUnfinshed',\n",
      "    'NANo Basement',\n",
      "    'BsmtFinSF1: Type 1 finished square feet',\n",
      "    'BsmtFinType2: Rating of basement finished area (if multiple types)',\n",
      "    'GLQGood Living Quarters',\n",
      "    'ALQAverage Living Quarters',\n",
      "    'BLQBelow Average Living Quarters',\n",
      "    'RecAverage Rec Room',\n",
      "    'LwQLow Quality',\n",
      "    'UnfUnfinshed',\n",
      "    'NANo Basement',\n",
      "    'BsmtFinSF2: Type 2 finished square feet',\n",
      "    'BsmtUnfSF: Unfinished square feet of basement area',\n",
      "    'TotalBsmtSF: Total square feet of basement area',\n",
      "    'Heating: Type of heating',\n",
      "    'FloorFloor Furnace',\n",
      "    'GasAGas forced warm air furnace',\n",
      "    'GasWGas hot water or steam heat',\n",
      "    'GravGravity furnace',\n",
      "    'OthWHot water or steam heat other than gas',\n",
      "    'WallWall furnace',\n",
      "    'HeatingQC: Heating quality and condition',\n",
      "    'ExExcellent',\n",
      "    'GdGood',\n",
      "    'TAAverage/Typical',\n",
      "    'FaFair',\n",
      "    'PoPoor',\n",
      "    'CentralAir: Central air conditioning',\n",
      "    'NNo',\n",
      "    'YYes',\n",
      "    'Electrical: Electrical system',\n",
      "    'SBrkrStandard Circuit Breakers & Romex',\n",
      "    'FuseAFuse Box over 60 AMP and all Romex wiring (Average)',\n",
      "    'FuseF60 AMP Fuse Box and mostly Romex wiring (Fair)',\n",
      "    'FuseP60 AMP Fuse Box and mostly knob & tube wiring (poor)',\n",
      "    'MixMixed',\n",
      "    '1stFlrSF: First Floor square feet',\n",
      "    '2ndFlrSF: Second floor square feet',\n",
      "    'LowQualFinSF: Low quality finished square feet (all floors)',\n",
      "    'GrLivArea: Above grade (ground) living area square feet',\n",
      "    'BsmtFullBath: Basement full bathrooms',\n",
      "    'BsmtHalfBath: Basement half bathrooms',\n",
      "    'FullBath: Full bathrooms above grade',\n",
      "    'HalfBath: Half baths above grade',\n",
      "    'Bedroom: Bedrooms above grade (does NOT include basement bedrooms)',\n",
      "    'KitchenAbvGr: Kitchens above grade',\n",
      "    'KitchenQual: Kitchen quality',\n",
      "    'ExExcellent',\n",
      "    'GdGood',\n",
      "    'TATypical/Average',\n",
      "    'FaFair',\n",
      "    'PoPoor',\n",
      "    'TotRmsAbvGrd: Total rooms above grade (does not include bathrooms)',\n",
      "    'Functional: Home functionality (Assume typical unless deductions are '\n",
      "    'warranted)',\n",
      "    'TypTypical Functionality',\n",
      "    'Min1Minor Deductions 1',\n",
      "    'Min2Minor Deductions 2',\n",
      "    'ModModerate Deductions',\n",
      "    'Maj1Major Deductions 1',\n",
      "    'Maj2Major Deductions 2',\n",
      "    'SevSeverely Damaged',\n",
      "    'SalSalvage only',\n",
      "    'Fireplaces: Number of fireplaces',\n",
      "    'FireplaceQu: Fireplace quality',\n",
      "    'ExExcellent - Exceptional Masonry Fireplace',\n",
      "    'GdGood - Masonry Fireplace in main level',\n",
      "    'TAAverage - Prefabricated Fireplace in main living area or Masonry '\n",
      "    'Fireplace in basement',\n",
      "    'FaFair - Prefabricated Fireplace in basement',\n",
      "    'PoPoor - Ben Franklin Stove',\n",
      "    'NANo Fireplace',\n",
      "    'GarageType: Garage location',\n",
      "    '2TypesMore than one type of garage',\n",
      "    'AttchdAttached to home',\n",
      "    'BasmentBasement Garage',\n",
      "    'BuiltInBuilt-In (Garage part of house - typically has room above garage)',\n",
      "    'CarPortCar Port',\n",
      "    'DetchdDetached from home',\n",
      "    'NANo Garage',\n",
      "    'GarageYrBlt: Year garage was built',\n",
      "    'GarageFinish: Interior finish of the garage',\n",
      "    'FinFinished',\n",
      "    'RFnRough Finished',\n",
      "    'UnfUnfinished',\n",
      "    'NANo Garage',\n",
      "    'GarageCars: Size of garage in car capacity',\n",
      "    'GarageArea: Size of garage in square feet',\n",
      "    'GarageQual: Garage quality',\n",
      "    'ExExcellent',\n",
      "    'GdGood',\n",
      "    'TATypical/Average',\n",
      "    'FaFair',\n",
      "    'PoPoor',\n",
      "    'NANo Garage',\n",
      "    'GarageCond: Garage condition',\n",
      "    'ExExcellent',\n",
      "    'GdGood',\n",
      "    'TATypical/Average',\n",
      "    'FaFair',\n",
      "    'PoPoor',\n",
      "    'NANo Garage',\n",
      "    'PavedDrive: Paved driveway',\n",
      "    'YPaved',\n",
      "    'PPartial Pavement',\n",
      "    'NDirt/Gravel',\n",
      "    'WoodDeckSF: Wood deck area in square feet',\n",
      "    'OpenPorchSF: Open porch area in square feet',\n",
      "    'EnclosedPorch: Enclosed porch area in square feet',\n",
      "    '3SsnPorch: Three season porch area in square feet',\n",
      "    'ScreenPorch: Screen porch area in square feet',\n",
      "    'PoolArea: Pool area in square feet',\n",
      "    'PoolQC: Pool quality',\n",
      "    'ExExcellent',\n",
      "    'GdGood',\n",
      "    'TAAverage/Typical',\n",
      "    'FaFair',\n",
      "    'NANo Pool',\n",
      "    'Fence: Fence quality',\n",
      "    'GdPrvGood Privacy',\n",
      "    'MnPrvMinimum Privacy',\n",
      "    'GdWoGood Wood',\n",
      "    'MnWwMinimum Wood/Wire',\n",
      "    'NANo Fence',\n",
      "    'MiscFeature: Miscellaneous feature not covered in other categories',\n",
      "    'ElevElevator',\n",
      "    'Gar22nd Garage (if not described in garage section)',\n",
      "    'OthrOther',\n",
      "    'ShedShed (over 100 SF)',\n",
      "    'TenCTennis Court',\n",
      "    'NANone',\n",
      "    'MiscVal: $Value of miscellaneous feature',\n",
      "    'MoSold: Month Sold (MM)',\n",
      "    'YrSold: Year Sold (YYYY)',\n",
      "    'SaleType: Type of sale',\n",
      "    'WD Warranty Deed - Conventional',\n",
      "    'CWDWarranty Deed - Cash',\n",
      "    'VWDWarranty Deed - VA Loan',\n",
      "    'NewHome just constructed and sold',\n",
      "    'CODCourt Officer Deed/Estate',\n",
      "    'ConContract 15% Down payment regular terms',\n",
      "    'ConLwContract Low Down payment and low interest',\n",
      "    'ConLIContract Low Interest',\n",
      "    'ConLDContract Low Down',\n",
      "    'OthOther',\n",
      "    'SaleCondition: Condition of sale',\n",
      "    'NormalNormal Sale',\n",
      "    'AbnormlAbnormal Sale -  trade, foreclosure, short sale',\n",
      "    'AdjLandAdjoining Land Purchase',\n",
      "    'AllocaAllocation - two linked properties with separate deeds, typically '\n",
      "    'condo with a garage unit',\n",
      "    'FamilySale between family members',\n",
      "    'PartialHome was not completed when last assessed (associated with New '\n",
      "    'Homes)']\n"
     ]
    }
   ],
   "source": [
    "import pprint\n",
    "pp = pprint.PrettyPrinter(indent=4)\n",
    "\n",
    "\n",
    "with open('data/data_description.txt') as f:\n",
    "    lines = f.readlines()\n",
    "\n",
    "text = []\n",
    "for line in lines:\n",
    "    line=line.strip().replace('\\n', '')\n",
    "    line=line.strip().replace('\\t', '')\n",
    "    if len(line) > 0:\n",
    "        text += [line]\n",
    "pp.pprint(text)"
   ]
  },
  {
   "cell_type": "code",
   "execution_count": 56,
   "metadata": {},
   "outputs": [],
   "source": [
    "# df[['BldgType']].value_counts\n",
    "# df[df['SalePrice'] > df['SalePrice'].quantile(0.75)]\n",
    "# df.query('YearBuilt >=1980 & YearBuilt <=2010 ' )\n",
    "# df.query('GrLivArea >2000' )\n",
    "# q3 =df['SalePrice'].quantile(0.75) #df[\"SalePrice\"].describe()[\"75%\"]\n",
    "# df.query('SalePrice >=@q3 & BldgType==\"1Fam\" & YearBuilt >=1980 & YearBuilt <=2010 & GrLivArea >2000')\n",
    "\n"
   ]
  },
  {
   "cell_type": "markdown",
   "metadata": {},
   "source": [
    "#### Rule 1: McMansions are single family homes\n",
    "In this data, we can find that using the `BldgType` field. Let's check which value would correspond with single family homes, and get a sense of how often it appears in the data. "
   ]
  },
  {
   "cell_type": "code",
   "execution_count": 57,
   "metadata": {},
   "outputs": [
    {
     "name": "stdout",
     "output_type": "stream",
     "text": [
      "1Fam      1220\n",
      "TwnhsE     114\n",
      "Duplex      52\n",
      "Twnhs       43\n",
      "2fmCon      31\n",
      "Name: BldgType, dtype: int64\n"
     ]
    }
   ],
   "source": [
    "print(df[\"BldgType\"].value_counts())"
   ]
  },
  {
   "cell_type": "markdown",
   "metadata": {},
   "source": [
    "It seems that there are a lot of single family homes, represented by the value `1Fam`. Let's create a column that applies this rule to every row."
   ]
  },
  {
   "cell_type": "code",
   "execution_count": 93,
   "metadata": {},
   "outputs": [],
   "source": [
    "df[\"SINGLE_FAMILY\"] = df[\"BldgType\"].apply(lambda x: 1 if x == \"1Fam\" else 0)"
   ]
  },
  {
   "cell_type": "markdown",
   "metadata": {},
   "source": [
    "#### Rule 2: McMansions are built between 1980 and 2010\n",
    "In this data, we can find that using the `YearBuilt` field. Let's check which value would corresponds with our date range. "
   ]
  },
  {
   "cell_type": "code",
   "execution_count": 59,
   "metadata": {},
   "outputs": [
    {
     "name": "stdout",
     "output_type": "stream",
     "text": [
      "2006    67\n",
      "2005    64\n",
      "2004    54\n",
      "2007    49\n",
      "2003    45\n",
      "        ..\n",
      "1875     1\n",
      "1911     1\n",
      "1917     1\n",
      "1872     1\n",
      "1905     1\n",
      "Name: YearBuilt, Length: 112, dtype: int64\n"
     ]
    }
   ],
   "source": [
    "print(df[\"YearBuilt\"].value_counts())"
   ]
  },
  {
   "cell_type": "markdown",
   "metadata": {},
   "source": [
    "Great! Now, let's apply some logic to determine which houses were built within our date range, and turn that into a binary indicator."
   ]
  },
  {
   "cell_type": "code",
   "execution_count": 94,
   "metadata": {},
   "outputs": [
    {
     "name": "stdout",
     "output_type": "stream",
     "text": [
      "0    848\n",
      "1    612\n",
      "Name: IN_DATE_RANGE, dtype: int64\n"
     ]
    }
   ],
   "source": [
    "df[\"IN_DATE_RANGE\"] = df[\"YearBuilt\"].apply(lambda x: 1 if (x >= 1980 and x <=2010) else 0)\n",
    "print(df[\"IN_DATE_RANGE\"].value_counts())"
   ]
  },
  {
   "cell_type": "markdown",
   "metadata": {},
   "source": [
    "#### Rule 3: McMansions are Greater than 2,000 sq. ft.\n",
    "In this data, we get the \"above grade\" (or \"above ground\") square footage with the `GrLivArea` field. "
   ]
  },
  {
   "cell_type": "code",
   "execution_count": 61,
   "metadata": {},
   "outputs": [
    {
     "name": "stdout",
     "output_type": "stream",
     "text": [
      "864     22\n",
      "1040    14\n",
      "894     11\n",
      "1456    10\n",
      "848     10\n",
      "        ..\n",
      "2296     1\n",
      "1123     1\n",
      "1199     1\n",
      "1473     1\n",
      "1256     1\n",
      "Name: GrLivArea, Length: 861, dtype: int64\n"
     ]
    }
   ],
   "source": [
    "print(df[\"GrLivArea\"].value_counts())"
   ]
  },
  {
   "cell_type": "code",
   "execution_count": 95,
   "metadata": {},
   "outputs": [
    {
     "name": "stdout",
     "output_type": "stream",
     "text": [
      "0    1245\n",
      "1     215\n",
      "Name: ABOVE_2K_SQFT, dtype: int64\n"
     ]
    }
   ],
   "source": [
    "df[\"ABOVE_2K_SQFT\"] = df[\"GrLivArea\"].apply(lambda x: 1 if x >= 2000 else 0)\n",
    "print(df[\"ABOVE_2K_SQFT\"].value_counts())"
   ]
  },
  {
   "cell_type": "markdown",
   "metadata": {},
   "source": [
    "#### Sale Price\n",
    "Now, we want to identify houses that sold for a lot more than other houses."
   ]
  },
  {
   "cell_type": "code",
   "execution_count": 96,
   "metadata": {},
   "outputs": [],
   "source": [
    "df[\"UPPER_QUARTILE\"] = df[\"SalePrice\"] >= df[\"SalePrice\"].describe()[\"75%\"]"
   ]
  },
  {
   "cell_type": "code",
   "execution_count": 64,
   "metadata": {},
   "outputs": [
    {
     "data": {
      "text/plain": [
       "False    1093\n",
       "True      367\n",
       "Name: UPPER_QUARTILE, dtype: int64"
      ]
     },
     "execution_count": 64,
     "metadata": {},
     "output_type": "execute_result"
    }
   ],
   "source": [
    "df[\"UPPER_QUARTILE\"].value_counts()"
   ]
  },
  {
   "cell_type": "markdown",
   "metadata": {},
   "source": [
    "#### Applying the Rules\n",
    "Now that we have used domain knowledge to lay out the business rules and we created binary indicators to flag the rows that meet the criteria, we can create a new column that scores each row based on the number of criteria indicated."
   ]
  },
  {
   "cell_type": "code",
   "execution_count": 97,
   "metadata": {},
   "outputs": [
    {
     "data": {
      "text/html": [
       "<div>\n",
       "<style scoped>\n",
       "    .dataframe tbody tr th:only-of-type {\n",
       "        vertical-align: middle;\n",
       "    }\n",
       "\n",
       "    .dataframe tbody tr th {\n",
       "        vertical-align: top;\n",
       "    }\n",
       "\n",
       "    .dataframe thead th {\n",
       "        text-align: right;\n",
       "    }\n",
       "</style>\n",
       "<table border=\"1\" class=\"dataframe\">\n",
       "  <thead>\n",
       "    <tr style=\"text-align: right;\">\n",
       "      <th></th>\n",
       "      <th>UPPER_QUARTILE</th>\n",
       "      <th>ABOVE_2K_SQFT</th>\n",
       "      <th>IN_DATE_RANGE</th>\n",
       "      <th>SINGLE_FAMILY</th>\n",
       "    </tr>\n",
       "  </thead>\n",
       "  <tbody>\n",
       "    <tr>\n",
       "      <th>0</th>\n",
       "      <td>False</td>\n",
       "      <td>0</td>\n",
       "      <td>1</td>\n",
       "      <td>1</td>\n",
       "    </tr>\n",
       "    <tr>\n",
       "      <th>1</th>\n",
       "      <td>False</td>\n",
       "      <td>0</td>\n",
       "      <td>0</td>\n",
       "      <td>1</td>\n",
       "    </tr>\n",
       "    <tr>\n",
       "      <th>2</th>\n",
       "      <td>True</td>\n",
       "      <td>0</td>\n",
       "      <td>1</td>\n",
       "      <td>1</td>\n",
       "    </tr>\n",
       "    <tr>\n",
       "      <th>3</th>\n",
       "      <td>False</td>\n",
       "      <td>0</td>\n",
       "      <td>0</td>\n",
       "      <td>1</td>\n",
       "    </tr>\n",
       "    <tr>\n",
       "      <th>4</th>\n",
       "      <td>True</td>\n",
       "      <td>1</td>\n",
       "      <td>1</td>\n",
       "      <td>1</td>\n",
       "    </tr>\n",
       "    <tr>\n",
       "      <th>...</th>\n",
       "      <td>...</td>\n",
       "      <td>...</td>\n",
       "      <td>...</td>\n",
       "      <td>...</td>\n",
       "    </tr>\n",
       "    <tr>\n",
       "      <th>1455</th>\n",
       "      <td>False</td>\n",
       "      <td>0</td>\n",
       "      <td>1</td>\n",
       "      <td>1</td>\n",
       "    </tr>\n",
       "    <tr>\n",
       "      <th>1456</th>\n",
       "      <td>False</td>\n",
       "      <td>1</td>\n",
       "      <td>0</td>\n",
       "      <td>1</td>\n",
       "    </tr>\n",
       "    <tr>\n",
       "      <th>1457</th>\n",
       "      <td>True</td>\n",
       "      <td>1</td>\n",
       "      <td>0</td>\n",
       "      <td>1</td>\n",
       "    </tr>\n",
       "    <tr>\n",
       "      <th>1458</th>\n",
       "      <td>False</td>\n",
       "      <td>0</td>\n",
       "      <td>0</td>\n",
       "      <td>1</td>\n",
       "    </tr>\n",
       "    <tr>\n",
       "      <th>1459</th>\n",
       "      <td>False</td>\n",
       "      <td>0</td>\n",
       "      <td>0</td>\n",
       "      <td>1</td>\n",
       "    </tr>\n",
       "  </tbody>\n",
       "</table>\n",
       "<p>1460 rows × 4 columns</p>\n",
       "</div>"
      ],
      "text/plain": [
       "      UPPER_QUARTILE  ABOVE_2K_SQFT  IN_DATE_RANGE  SINGLE_FAMILY\n",
       "0              False              0              1              1\n",
       "1              False              0              0              1\n",
       "2               True              0              1              1\n",
       "3              False              0              0              1\n",
       "4               True              1              1              1\n",
       "...              ...            ...            ...            ...\n",
       "1455           False              0              1              1\n",
       "1456           False              1              0              1\n",
       "1457            True              1              0              1\n",
       "1458           False              0              0              1\n",
       "1459           False              0              0              1\n",
       "\n",
       "[1460 rows x 4 columns]"
      ]
     },
     "execution_count": 97,
     "metadata": {},
     "output_type": "execute_result"
    }
   ],
   "source": [
    "df[['UPPER_QUARTILE','ABOVE_2K_SQFT','IN_DATE_RANGE','SINGLE_FAMILY']]"
   ]
  },
  {
   "cell_type": "code",
   "execution_count": 98,
   "metadata": {},
   "outputs": [
    {
     "name": "stdout",
     "output_type": "stream",
     "text": [
      "1    741\n",
      "2    287\n",
      "3    205\n",
      "4    121\n",
      "0    106\n",
      "Name: MCMANSION_SCORE, dtype: int64\n"
     ]
    }
   ],
   "source": [
    "df[\"MCMANSION_SCORE\"] = df[\"UPPER_QUARTILE\"] + df[\"ABOVE_2K_SQFT\"] + df[\"IN_DATE_RANGE\"] + df[\"SINGLE_FAMILY\"]\n",
    "print(df[\"MCMANSION_SCORE\"].value_counts())"
   ]
  },
  {
   "cell_type": "markdown",
   "metadata": {},
   "source": [
    "If we wanted to strictly interpret our rules, we would have __121 McMansions__. However, if we want to widen the net a bit, we could use a `MCMANSION_SCORE` greater than or equal to `3` as the threshold. Let's use that to create a binary indicator `IS_MCMANSON`."
   ]
  },
  {
   "cell_type": "code",
   "execution_count": 99,
   "metadata": {},
   "outputs": [
    {
     "name": "stdout",
     "output_type": "stream",
     "text": [
      "False    1134\n",
      "True      326\n",
      "Name: IS_MCMANSION, dtype: int64\n"
     ]
    }
   ],
   "source": [
    "df[\"IS_MCMANSION\"] = df[\"MCMANSION_SCORE\"] >= 3\n",
    "print(df[\"IS_MCMANSION\"].value_counts())"
   ]
  },
  {
   "cell_type": "code",
   "execution_count": 101,
   "metadata": {},
   "outputs": [
    {
     "data": {
      "text/html": [
       "<div>\n",
       "<style scoped>\n",
       "    .dataframe tbody tr th:only-of-type {\n",
       "        vertical-align: middle;\n",
       "    }\n",
       "\n",
       "    .dataframe tbody tr th {\n",
       "        vertical-align: top;\n",
       "    }\n",
       "\n",
       "    .dataframe thead th {\n",
       "        text-align: right;\n",
       "    }\n",
       "</style>\n",
       "<table border=\"1\" class=\"dataframe\">\n",
       "  <thead>\n",
       "    <tr style=\"text-align: right;\">\n",
       "      <th></th>\n",
       "      <th>UPPER_QUARTILE</th>\n",
       "      <th>ABOVE_2K_SQFT</th>\n",
       "      <th>IN_DATE_RANGE</th>\n",
       "      <th>SINGLE_FAMILY</th>\n",
       "      <th>MCMANSION_SCORE</th>\n",
       "      <th>IS_MCMANSION</th>\n",
       "    </tr>\n",
       "  </thead>\n",
       "  <tbody>\n",
       "    <tr>\n",
       "      <th>0</th>\n",
       "      <td>False</td>\n",
       "      <td>0</td>\n",
       "      <td>1</td>\n",
       "      <td>1</td>\n",
       "      <td>2</td>\n",
       "      <td>False</td>\n",
       "    </tr>\n",
       "    <tr>\n",
       "      <th>1</th>\n",
       "      <td>False</td>\n",
       "      <td>0</td>\n",
       "      <td>0</td>\n",
       "      <td>1</td>\n",
       "      <td>1</td>\n",
       "      <td>False</td>\n",
       "    </tr>\n",
       "    <tr>\n",
       "      <th>2</th>\n",
       "      <td>True</td>\n",
       "      <td>0</td>\n",
       "      <td>1</td>\n",
       "      <td>1</td>\n",
       "      <td>3</td>\n",
       "      <td>True</td>\n",
       "    </tr>\n",
       "    <tr>\n",
       "      <th>3</th>\n",
       "      <td>False</td>\n",
       "      <td>0</td>\n",
       "      <td>0</td>\n",
       "      <td>1</td>\n",
       "      <td>1</td>\n",
       "      <td>False</td>\n",
       "    </tr>\n",
       "    <tr>\n",
       "      <th>4</th>\n",
       "      <td>True</td>\n",
       "      <td>1</td>\n",
       "      <td>1</td>\n",
       "      <td>1</td>\n",
       "      <td>4</td>\n",
       "      <td>True</td>\n",
       "    </tr>\n",
       "    <tr>\n",
       "      <th>...</th>\n",
       "      <td>...</td>\n",
       "      <td>...</td>\n",
       "      <td>...</td>\n",
       "      <td>...</td>\n",
       "      <td>...</td>\n",
       "      <td>...</td>\n",
       "    </tr>\n",
       "    <tr>\n",
       "      <th>1455</th>\n",
       "      <td>False</td>\n",
       "      <td>0</td>\n",
       "      <td>1</td>\n",
       "      <td>1</td>\n",
       "      <td>2</td>\n",
       "      <td>False</td>\n",
       "    </tr>\n",
       "    <tr>\n",
       "      <th>1456</th>\n",
       "      <td>False</td>\n",
       "      <td>1</td>\n",
       "      <td>0</td>\n",
       "      <td>1</td>\n",
       "      <td>2</td>\n",
       "      <td>False</td>\n",
       "    </tr>\n",
       "    <tr>\n",
       "      <th>1457</th>\n",
       "      <td>True</td>\n",
       "      <td>1</td>\n",
       "      <td>0</td>\n",
       "      <td>1</td>\n",
       "      <td>3</td>\n",
       "      <td>True</td>\n",
       "    </tr>\n",
       "    <tr>\n",
       "      <th>1458</th>\n",
       "      <td>False</td>\n",
       "      <td>0</td>\n",
       "      <td>0</td>\n",
       "      <td>1</td>\n",
       "      <td>1</td>\n",
       "      <td>False</td>\n",
       "    </tr>\n",
       "    <tr>\n",
       "      <th>1459</th>\n",
       "      <td>False</td>\n",
       "      <td>0</td>\n",
       "      <td>0</td>\n",
       "      <td>1</td>\n",
       "      <td>1</td>\n",
       "      <td>False</td>\n",
       "    </tr>\n",
       "  </tbody>\n",
       "</table>\n",
       "<p>1460 rows × 6 columns</p>\n",
       "</div>"
      ],
      "text/plain": [
       "      UPPER_QUARTILE  ABOVE_2K_SQFT  IN_DATE_RANGE  SINGLE_FAMILY  \\\n",
       "0              False              0              1              1   \n",
       "1              False              0              0              1   \n",
       "2               True              0              1              1   \n",
       "3              False              0              0              1   \n",
       "4               True              1              1              1   \n",
       "...              ...            ...            ...            ...   \n",
       "1455           False              0              1              1   \n",
       "1456           False              1              0              1   \n",
       "1457            True              1              0              1   \n",
       "1458           False              0              0              1   \n",
       "1459           False              0              0              1   \n",
       "\n",
       "      MCMANSION_SCORE  IS_MCMANSION  \n",
       "0                   2         False  \n",
       "1                   1         False  \n",
       "2                   3          True  \n",
       "3                   1         False  \n",
       "4                   4          True  \n",
       "...               ...           ...  \n",
       "1455                2         False  \n",
       "1456                2         False  \n",
       "1457                3          True  \n",
       "1458                1         False  \n",
       "1459                1         False  \n",
       "\n",
       "[1460 rows x 6 columns]"
      ]
     },
     "execution_count": 101,
     "metadata": {},
     "output_type": "execute_result"
    }
   ],
   "source": [
    "df[['UPPER_QUARTILE','ABOVE_2K_SQFT','IN_DATE_RANGE','SINGLE_FAMILY','MCMANSION_SCORE','IS_MCMANSION']]"
   ]
  },
  {
   "cell_type": "markdown",
   "metadata": {},
   "source": [
    "Great! Now we have applied our business rules and identified __326 McMansions__. Let's also take note that we have a class imbalance of approximately 4 non-McMansions for every McMansion. This might have an impact on our results."
   ]
  },
  {
   "cell_type": "markdown",
   "metadata": {},
   "source": [
    "Now, let's train a model to identify our McMansions."
   ]
  },
  {
   "cell_type": "markdown",
   "metadata": {},
   "source": [
    "### 5. Preprocess and Label Data"
   ]
  },
  {
   "cell_type": "markdown",
   "metadata": {},
   "source": [
    "#### Handling Nulls"
   ]
  },
  {
   "cell_type": "markdown",
   "metadata": {},
   "source": [
    "Next, we have to do some minimal preprocessing to handle null values before passing the data through our model.\n",
    "\n",
    "When imputing null values, there is no one size fits all technique. For certain use cases, it is appropriate to the mean, or the median. In other cases, it is better to indicate that the value is missing. For example `PoolArea` _should_ be zero if a house has no pool. \n",
    "\n",
    "In the cell below, we identify all the categorical and numerical variables. We will need to train test split and then handle nulls for both numerical and categorical."
   ]
  },
  {
   "cell_type": "code",
   "execution_count": 69,
   "metadata": {},
   "outputs": [
    {
     "name": "stdout",
     "output_type": "stream",
     "text": [
      "Total NaNs in Numerical Features: 348\n",
      "Total NaNs in Categorical Features: 6617\n"
     ]
    }
   ],
   "source": [
    "# identify all of fields that have strings as values\n",
    "categorical = [col for col in df.columns if df[col].dtype==\"O\"]\n",
    "numerical = [col for col in df.columns if col not in categorical]\n",
    "\n",
    "print(f\"Total NaNs in Numerical Features: {sum(df[numerical].isna().sum())}\")\n",
    "\n",
    "print(f\"Total NaNs in Categorical Features: {sum(df[categorical].isna().sum())}\")"
   ]
  },
  {
   "cell_type": "code",
   "execution_count": 70,
   "metadata": {
    "scrolled": true
   },
   "outputs": [
    {
     "data": {
      "text/plain": [
       "Id                   0\n",
       "MSSubClass           0\n",
       "LotFrontage        259\n",
       "LotArea              0\n",
       "OverallQual          0\n",
       "OverallCond          0\n",
       "YearBuilt            0\n",
       "YearRemodAdd         0\n",
       "MasVnrArea           8\n",
       "BsmtFinSF1           0\n",
       "BsmtFinSF2           0\n",
       "BsmtUnfSF            0\n",
       "TotalBsmtSF          0\n",
       "1stFlrSF             0\n",
       "2ndFlrSF             0\n",
       "LowQualFinSF         0\n",
       "GrLivArea            0\n",
       "BsmtFullBath         0\n",
       "BsmtHalfBath         0\n",
       "FullBath             0\n",
       "HalfBath             0\n",
       "BedroomAbvGr         0\n",
       "KitchenAbvGr         0\n",
       "TotRmsAbvGrd         0\n",
       "Fireplaces           0\n",
       "GarageYrBlt         81\n",
       "GarageCars           0\n",
       "GarageArea           0\n",
       "WoodDeckSF           0\n",
       "OpenPorchSF          0\n",
       "EnclosedPorch        0\n",
       "3SsnPorch            0\n",
       "ScreenPorch          0\n",
       "PoolArea             0\n",
       "MiscVal              0\n",
       "MoSold               0\n",
       "YrSold               0\n",
       "SalePrice            0\n",
       "SINGLE_FAMILY        0\n",
       "IN_DATE_RANGE        0\n",
       "ABOVE_2K_SQFT        0\n",
       "UPPER_QUARTILE       0\n",
       "MCMANSION_SCORE      0\n",
       "IS_MCMANSION         0\n",
       "dtype: int64"
      ]
     },
     "execution_count": 70,
     "metadata": {},
     "output_type": "execute_result"
    }
   ],
   "source": [
    "# Identify columns with nulls\n",
    "df[numerical].isna().sum()"
   ]
  },
  {
   "cell_type": "markdown",
   "metadata": {},
   "source": [
    "It looks like these nulls should actually be 0's. The house in question does not have the feature being measured. We can fill in before splitting without any data leakage because we are using a 0 value."
   ]
  },
  {
   "cell_type": "code",
   "execution_count": 71,
   "metadata": {},
   "outputs": [],
   "source": [
    "# Fill in numerical nulls with 0\n",
    "df[numerical] = df[numerical].fillna(0)"
   ]
  },
  {
   "cell_type": "markdown",
   "metadata": {},
   "source": [
    "Now, let's look at the categorical variables."
   ]
  },
  {
   "cell_type": "code",
   "execution_count": 72,
   "metadata": {},
   "outputs": [
    {
     "data": {
      "text/plain": [
       "MSZoning            0\n",
       "Street              0\n",
       "Alley            1369\n",
       "LotShape            0\n",
       "LandContour         0\n",
       "Utilities           0\n",
       "LotConfig           0\n",
       "LandSlope           0\n",
       "Neighborhood        0\n",
       "Condition1          0\n",
       "Condition2          0\n",
       "BldgType            0\n",
       "HouseStyle          0\n",
       "RoofStyle           0\n",
       "RoofMatl            0\n",
       "Exterior1st         0\n",
       "Exterior2nd         0\n",
       "MasVnrType          8\n",
       "ExterQual           0\n",
       "ExterCond           0\n",
       "Foundation          0\n",
       "BsmtQual           37\n",
       "BsmtCond           37\n",
       "BsmtExposure       38\n",
       "BsmtFinType1       37\n",
       "BsmtFinType2       38\n",
       "Heating             0\n",
       "HeatingQC           0\n",
       "CentralAir          0\n",
       "Electrical          1\n",
       "KitchenQual         0\n",
       "Functional          0\n",
       "FireplaceQu       690\n",
       "GarageType         81\n",
       "GarageFinish       81\n",
       "GarageQual         81\n",
       "GarageCond         81\n",
       "PavedDrive          0\n",
       "PoolQC           1453\n",
       "Fence            1179\n",
       "MiscFeature      1406\n",
       "SaleType            0\n",
       "SaleCondition       0\n",
       "dtype: int64"
      ]
     },
     "execution_count": 72,
     "metadata": {},
     "output_type": "execute_result"
    }
   ],
   "source": [
    "df[categorical].isna().sum()"
   ]
  },
  {
   "cell_type": "markdown",
   "metadata": {},
   "source": [
    "Similiar to the numericals it looks like these nulls correspond to houses that do not have the associated features, we can fill in with 'N/A' before splitting and onehotencoding."
   ]
  },
  {
   "cell_type": "code",
   "execution_count": 73,
   "metadata": {},
   "outputs": [],
   "source": [
    "df[categorical] = df[categorical].fillna('N/A')"
   ]
  },
  {
   "cell_type": "markdown",
   "metadata": {},
   "source": [
    "After these two steps, all of the null data has been handled. \n",
    "\n",
    "**Note:** We took a fairly simple and blanket approach here for simplicity and time, further invesigation of nulls is probably warranted."
   ]
  },
  {
   "cell_type": "code",
   "execution_count": 74,
   "metadata": {},
   "outputs": [
    {
     "data": {
      "text/plain": [
       "0"
      ]
     },
     "execution_count": 74,
     "metadata": {},
     "output_type": "execute_result"
    }
   ],
   "source": [
    "df.isna().sum().sum()"
   ]
  },
  {
   "cell_type": "markdown",
   "metadata": {},
   "source": [
    "### 6. Train Regression Model"
   ]
  },
  {
   "cell_type": "markdown",
   "metadata": {},
   "source": [
    "To avoid data leakage and or overfitting, we are going to remove the indicators that were created to apply our business rules from the training data, now that it is labeled. Then, the data is split into the X (data) and y (target). "
   ]
  },
  {
   "cell_type": "code",
   "execution_count": 75,
   "metadata": {},
   "outputs": [],
   "source": [
    "drop = [\"IS_MCMANSION\", \"MCMANSION_SCORE\", \"UPPER_QUARTILE\", \"ABOVE_2K_SQFT\", \"IN_DATE_RANGE\", \"SINGLE_FAMILY\", \"Id\"]\n",
    "keep = [col for col in df.columns if col not in drop]\n",
    "X = df[keep]\n",
    "y = df['IS_MCMANSION']"
   ]
  },
  {
   "cell_type": "markdown",
   "metadata": {},
   "source": [
    "Next, we split out data into train and test sets. "
   ]
  },
  {
   "cell_type": "code",
   "execution_count": 76,
   "metadata": {},
   "outputs": [],
   "source": [
    "X_train, X_test, y_train, y_test = train_test_split(X, y, test_size=0.2, random_state=0)"
   ]
  },
  {
   "cell_type": "markdown",
   "metadata": {},
   "source": [
    "Before we can model we need to handle the categorical variables by onehotencoding. Note again that this is a blanket approach for simplicity and time, some of these might warrant ordinal or target encoding instead."
   ]
  },
  {
   "cell_type": "code",
   "execution_count": 77,
   "metadata": {},
   "outputs": [],
   "source": [
    "# Import\n",
    "from sklearn.preprocessing import OneHotEncoder\n",
    "ohe = OneHotEncoder(handle_unknown='ignore')\n",
    "X_train_cat = ohe.fit_transform(X_train[categorical])\n",
    "X_test_cat = ohe.transform(X_test[categorical])"
   ]
  },
  {
   "cell_type": "code",
   "execution_count": 78,
   "metadata": {},
   "outputs": [],
   "source": [
    "# Bring back togather\n",
    "X_train_cat = pd.DataFrame(X_train_cat.todense(), columns=ohe.get_feature_names_out(), index=X_train.index)\n",
    "X_test_cat = pd.DataFrame(X_test_cat.todense(), columns=ohe.get_feature_names_out(), index=X_test.index)\n",
    "X_train = X_train.drop(columns=categorical)\n",
    "X_train = X_train.join(X_train_cat)\n",
    "X_test = X_test.drop(columns=categorical)\n",
    "X_test = X_test.join(X_test_cat)"
   ]
  },
  {
   "cell_type": "markdown",
   "metadata": {},
   "source": [
    "Finally, we fit a Logistic Regression classifier. We chose the \"liblinear\" solver because:\n",
    "* It is efficient and scalable. This will be useful if we plan to use our model for larger datasets in the future. \n",
    "* It and can handle both L1 and L2 regularization, providing additional options for hypertuning the model. \n",
    "* It also supports both binary and multi-class classification."
   ]
  },
  {
   "cell_type": "code",
   "execution_count": 79,
   "metadata": {},
   "outputs": [],
   "source": [
    "model = LogisticRegression(solver=\"liblinear\", max_iter=1000).fit(X_train, y_train)"
   ]
  },
  {
   "cell_type": "markdown",
   "metadata": {},
   "source": [
    "### Evaluation and Interpretation\n",
    "With our model fit, we can make predictions on test data and evaluate our results. Evaluation is an important part of interpretation, because it provides information about how confident we can be about our results."
   ]
  },
  {
   "cell_type": "code",
   "execution_count": 80,
   "metadata": {},
   "outputs": [
    {
     "name": "stdout",
     "output_type": "stream",
     "text": [
      "Accuracy:  0.9623287671232876\n"
     ]
    }
   ],
   "source": [
    "# Predict using the model\n",
    "y_pred = model.predict(X_test)\n",
    "\n",
    "# Model accuracy\n",
    "acc = model.score(X_test, y_test)\n",
    "print(\"Accuracy: \", acc)"
   ]
  },
  {
   "cell_type": "markdown",
   "metadata": {},
   "source": [
    "#### Model Agnostic Evaluation Metrics\n",
    "Evaluation metrics like accuracy, precision, recall, and F1 can be used to evaluate any machine learning model. They can provide important information about the behavior of the model to help inform the interpretation/explanation."
   ]
  },
  {
   "cell_type": "code",
   "execution_count": 81,
   "metadata": {},
   "outputs": [
    {
     "name": "stdout",
     "output_type": "stream",
     "text": [
      "Accuracy: 96.23%\n",
      "Precision: 92.98%\n",
      "Recall: 88.33%\n",
      "F1 Score: 90.60%\n"
     ]
    }
   ],
   "source": [
    "from sklearn.metrics import accuracy_score, precision_score, recall_score, f1_score\n",
    "\n",
    "# Compute accuracy\n",
    "acc = accuracy_score(y_test, y_pred)\n",
    "print(\"Accuracy: {:.2f}%\".format(acc * 100)) #out of predictions we made how a\n",
    "\n",
    "# Compute precision\n",
    "prec = precision_score(y_test, y_pred)\n",
    "print(\"Precision: {:.2f}%\".format(prec * 100)) #out of all the positive predictions made, how may were true?\n",
    "\n",
    "# Compute recall\n",
    "rec = recall_score(y_test, y_pred)\n",
    "print(\"Recall: {:.2f}%\".format(rec * 100)) #TPR out of all the data points that should be predicted as true how many did we correcly predict as true\n",
    "\n",
    "# Compute F1 score\n",
    "f1 = f1_score(y_test, y_pred)\n",
    "print(\"F1 Score: {:.2f}%\".format(f1 * 100))"
   ]
  },
  {
   "cell_type": "markdown",
   "metadata": {},
   "source": [
    "##### What can we infer?\n",
    "We can be fairly confident in the result, because the accuracy is pretty high. We have a higher precision than recall, which suggests that the model may be slightly more specific than sensitive. In other words, we are more likely to see a false negative than a false positive.\n",
    "\n",
    "#### Visualize\n",
    "Communicating these results can be more intuitive by using a visualization."
   ]
  },
  {
   "cell_type": "code",
   "execution_count": 82,
   "metadata": {},
   "outputs": [
    {
     "data": {
      "image/png": "[encoded data removed]",
      "text/plain": [
       "<Figure size 432x288 with 2 Axes>"
      ]
     },
     "metadata": {
      "needs_background": "light"
     },
     "output_type": "display_data"
    }
   ],
   "source": [
    "import seaborn as sns\n",
    "from sklearn.metrics import confusion_matrix\n",
    "import matplotlib.pyplot as plt\n",
    "\n",
    "# Compute the confusion matrix\n",
    "cm = confusion_matrix(y_test, y_pred)\n",
    "\n",
    "# Visualize the confusion matrix\n",
    "sns.heatmap(cm, annot=True, cmap=\"YlGnBu\", fmt='g')\n",
    "plt.xlabel('Predicted labels')\n",
    "plt.ylabel('True labels')\n",
    "plt.title('Confusion Matrix')\n",
    "plt.show()"
   ]
  },
  {
   "cell_type": "markdown",
   "metadata": {},
   "source": [
    "### Coefficients\n",
    "Coefficients in a logistic regression model represent the change in the log odds of the target variable for a one unit increase in the predictor variable, holding all other predictors constant. __In other words, the coefficient of a variable answers the question: \"If I were to remove this variable, what are the odds that the model would still make the same decision?\"__\n",
    "\n",
    "A positive coefficient indicates that as the predictor increases, the log odds of the target variable also increases, and vice versa. A larger magnitude coefficient indicates a stronger relationship between the predictor and target. By interpreting coefficients, we can understand the impact of individual predictors on the target and how they relate to each other."
   ]
  },
  {
   "cell_type": "code",
   "execution_count": 83,
   "metadata": {},
   "outputs": [],
   "source": [
    "features = list(X.drop(columns=categorical).columns)\n",
    "features_cat = list(ohe.get_feature_names_out())\n",
    "features.extend(features_cat)"
   ]
  },
  {
   "cell_type": "code",
   "execution_count": 84,
   "metadata": {
    "scrolled": false
   },
   "outputs": [
    {
     "name": "stdout",
     "output_type": "stream",
     "text": [
      "                0      1\n",
      "5       YearBuilt  0.034\n",
      "34         MoSold  0.009\n",
      "24    GarageYrBlt  0.009\n",
      "32       PoolArea  0.007\n",
      "13       2ndFlrSF  0.007\n",
      "3     OverallQual  0.003\n",
      "169  ExterQual_Gd  0.003\n",
      "22   TotRmsAbvGrd  0.003\n",
      "12       1stFlrSF  0.003\n",
      "20   BedroomAbvGr  0.003\n"
     ]
    }
   ],
   "source": [
    "# access coefficients\n",
    "coefs = model.coef_.tolist()[0]\n",
    "coef_data = list(zip(features, coefs))\n",
    "coef_df = pd.DataFrame(coef_data).round(3).sort_values(by=1, ascending=False)[:10]\n",
    "print(coef_df.head(10))"
   ]
  },
  {
   "cell_type": "code",
   "execution_count": 85,
   "metadata": {},
   "outputs": [
    {
     "data": {
      "image/png": "[encoded data removed]",
      "text/plain": [
       "<Figure size 432x288 with 1 Axes>"
      ]
     },
     "metadata": {
      "needs_background": "light"
     },
     "output_type": "display_data"
    }
   ],
   "source": [
    "# plot coefficients\n",
    "plt.barh(coef_df[0], coef_df[1])\n",
    "plt.xlabel('Coefficents')\n",
    "plt.ylabel('Features')\n",
    "plt.title('Top 10 Highest Coefficients by Feature')\n",
    "plt.show()"
   ]
  },
  {
   "cell_type": "markdown",
   "metadata": {},
   "source": [
    "##### What can we infer?\n",
    "Based on these coefficients, we can infer that the `YearBuilt` and was the most important features. We already knew that the year would be a defining criteria, based on our business rules.\n",
    "\n",
    "Some of the other features were not explicitly part of our business rules, but make sense given our domain knowledge of McMansions. For example:\n",
    "\n",
    "* `TotRmsAbvGrd` or \"Total Rooms Above Ground\", `2ndFlrSF` or \"Second Floor Square Feet\" both speak to __size__ which we know is an important factor. However, this finding enhances our knowledge, because it seems to matter where that extra square footage actually is.\n",
    "\n",
    "* `GarageYrBuilt`, and `PoolArea` all indicate the presence of a special amenity, like a basement, garage, or pool. All of which are characteristic of the McMansion and contribute to size.\n",
    "\n",
    "* `x18_gd` corresponds to the `ExterQual` categorical feature which refers to the materials used on the exterior -- we can learn more about what characterized McMansions in the dataset by digging into the distribution of values in those two fields.\n",
    "\n",
    "Building a decision engine or any machine learning model is an iterative process. While we might tweak our regression model in the next iteration, these results look good enough to continue developing the decision engine by adding our decision tree."
   ]
  },
  {
   "cell_type": "markdown",
   "metadata": {},
   "source": [
    "### Train and Evaluate Decision Tree\n",
    "Now, we will perform the same classification task and use a decision tree instead."
   ]
  },
  {
   "cell_type": "code",
   "execution_count": 86,
   "metadata": {},
   "outputs": [
    {
     "name": "stdout",
     "output_type": "stream",
     "text": [
      "Accuracy: 98.97%\n",
      "Precision: 100.00%\n",
      "Recall: 95.00%\n",
      "F1 Score: 97.44%\n"
     ]
    }
   ],
   "source": [
    "import matplotlib.pyplot as plt\n",
    "from sklearn.tree import DecisionTreeClassifier\n",
    "from sklearn.tree import plot_tree\n",
    "\n",
    "# fit the model\n",
    "model = DecisionTreeClassifier().fit(X_train, y_train)\n",
    "\n",
    "# get the predictions\n",
    "y_pred = model.predict(X_test)\n",
    "\n",
    "# compute accuracy\n",
    "acc = accuracy_score(y_test, y_pred)\n",
    "print(\"Accuracy: {:.2f}%\".format(acc * 100))\n",
    "\n",
    "# compute precision\n",
    "prec = precision_score(y_test, y_pred)\n",
    "print(\"Precision: {:.2f}%\".format(prec * 100))\n",
    "\n",
    "# compute recall\n",
    "rec = recall_score(y_test, y_pred)\n",
    "print(\"Recall: {:.2f}%\".format(rec * 100))\n",
    "\n",
    "# Compute F1 score\n",
    "f1 = f1_score(y_test, y_pred)\n",
    "print(\"F1 Score: {:.2f}%\".format(f1 * 100))"
   ]
  },
  {
   "cell_type": "markdown",
   "metadata": {},
   "source": [
    "#### Interpreting Decision Trees\n",
    "In scikit-learn, you can use the feature_importances_ attribute of the decision tree model to determine the most important features. The feature_importances_ attribute returns an array that indicates the importance of each feature in the model. The values in the array represent the average decrease in impurity (e.g., Gini impurity) that results from splitting the data based on that feature. The larger the value, the more important the feature."
   ]
  },
  {
   "cell_type": "code",
   "execution_count": 87,
   "metadata": {},
   "outputs": [
    {
     "name": "stdout",
     "output_type": "stream",
     "text": [
      "                  Feature  Importance\n",
      "36              SalePrice    0.806955\n",
      "105         BldgType_1Fam    0.082629\n",
      "15              GrLivArea    0.040790\n",
      "18               FullBath    0.027665\n",
      "5               YearBuilt    0.017112\n",
      "26             GarageArea    0.012170\n",
      "24            GarageYrBlt    0.008623\n",
      "71   Neighborhood_Crawfor    0.004057\n",
      "0              MSSubClass    0.000000\n",
      "202      BsmtFinType1_Rec    0.000000\n"
     ]
    }
   ],
   "source": [
    "# get the feature importances\n",
    "importances = model.feature_importances_\n",
    "\n",
    "# create a dataframe to store the feature importances\n",
    "df = pd.DataFrame({'Feature': features, 'Importance': importances})\n",
    "\n",
    "# sort the dataframe by the feature importances\n",
    "df.sort_values(by='Importance', ascending=False, inplace=True)\n",
    "\n",
    "# print the top 5 most important features\n",
    "print(df.head(10))"
   ]
  },
  {
   "cell_type": "markdown",
   "metadata": {},
   "source": [
    "#### Visualize\n",
    "We can also visualize the decision mechanism using a tree plot."
   ]
  },
  {
   "cell_type": "code",
   "execution_count": 88,
   "metadata": {},
   "outputs": [
    {
     "data": {
      "image/png": "[encoded data removed]",
      "text/plain": [
       "<Figure size 1440x720 with 1 Axes>"
      ]
     },
     "metadata": {
      "needs_background": "light"
     },
     "output_type": "display_data"
    }
   ],
   "source": [
    "colors = [\"red\", \"blue\"]\n",
    "classes = [\"NotMcMansion\", \"McMansion\"]\n",
    "fig = plt.figure(figsize=(20, 10))\n",
    "_ = plot_tree(model, filled=True, feature_names=features,\n",
    "              class_names=classes, label='all',\n",
    "              fontsize=12, precision=2, impurity=False,\n",
    "              node_ids=True, rounded=True)"
   ]
  },
  {
   "cell_type": "markdown",
   "metadata": {},
   "source": [
    "##### What can we infer?\n",
    "While the results are similar the results of our regression model, there are some differences in the features that were chosen. In addition, the decision tree displays the thresholds for key values that make a difference in classifications for a specific field. \n",
    "\n",
    "* Sales price is the most important feature, but there were a few McMansions that were less than the threshold of \\\\$213K.\n",
    "\n",
    "* It also makes sense that being a single family home was an important feature, given our decision rules earlier.\n",
    "\n",
    "* When determining if a home was a McMansion, features pertaining to size/living area, as well as amenities (`GarageYrBlt`, `FullBath`) were very important. "
   ]
  },
  {
   "cell_type": "markdown",
   "metadata": {},
   "source": [
    "## Explaining Our Interpretation\n",
    "Let's gather the inferences that were have collected to illustrate the big picture:\n",
    "\n",
    "* We can be fairly confident in the result, because the accuracy is pretty high, because both models had a high accuracy score. __It will be important to validate these results on a hold-out dataset__.\n",
    "* Both models had higher precision than recall, which suggests that the model may be slightly more specifc than sensitive. In other words, we are more likely to see a false negative than a false positive. __The class imbalance in the data might contribute to this__.\n",
    "* In both models, the year built was a dominant feature to positively identify McMansions. However, we also saw that features that would be correlated with size and sale price were also important. __We should identify if it is the size these features are adding or the features themselves that is most important__. \n",
    "\n",
    "As we mentioned earlier, building decision engines and other machine learning models is an iterative process. Our interpretation of our white-box model allows us to explore this problem from many angles. You may notice that in bold, ideas that pertain to __future work__ are highlighted. The observations that we collected from this first iteration will guide our next steps as we improve our model. "
   ]
  },
  {
   "cell_type": "markdown",
   "metadata": {},
   "source": [
    "## Summary\n",
    "In this lesson, we explored a use-case for white-box models in housing development, and demonstrated how you can use white-box models like logistic regression and decision trees to build a decision engine in scikit-learn. Then we discussed which metrics can be used in scikit-learn to interpret the results. We explained how evaluation metrics can contribute to the confidence we have in our results, and how coefficients and feature importance can help us to understand the most important features in the decision mechanism. In addition, we can use visualizations like bar plots and tree plots and communicate these findings in an intuitive way.\n",
    "\n",
    "Our decision engine did a pretty good job classifying homes in the Ames Housing Dataset as McMansions. This first iteration achieved a reasonable degree of accuracy and the results make sense based on what we already understand about McMansions. The next step is to review each of our inferences and identify any areas of uncertainty to explore them further. For example, our regression model indicated via the coefficients that the exterior material of a home is an important feature. Our next iteration might include a deep dive into the distribution of exterior materials among our McMansions."
   ]
  }
 ],
 "metadata": {
  "kernelspec": {
   "display_name": "learn-env",
   "language": "python",
   "name": "python3"
  },
  "language_info": {
   "codemirror_mode": {
    "name": "ipython",
    "version": 3
   },
   "file_extension": ".py",
   "mimetype": "text/x-python",
   "name": "python",
   "nbconvert_exporter": "python",
   "pygments_lexer": "ipython3",
   "version": "3.8.5"
  }
 },
 "nbformat": 4,
 "nbformat_minor": 4
}
